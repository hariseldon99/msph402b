{
 "cells": [
  {
   "cell_type": "markdown",
   "metadata": {},
   "source": [
    "# What are functions?\n",
    "\n",
    "Functions are a set of actions that we group together, and give a name to. You have already used a number of functions from the core Python language and NumPy, such as string.title() and array.reshape() etc.. We can define our own functions, which allows us to \"teach\" Python new behavior.\n",
    "\n",
    "# General Syntax\n",
    "A general function looks something like this:"
   ]
  },
  {
   "cell_type": "code",
   "execution_count": 6,
   "metadata": {},
   "outputs": [],
   "source": [
    "# Let's define a function.\n",
    "def function_name(argument_1, argument_2):\n",
    "    # Do whatever we want this function to do,\n",
    "\t#  using argument_1 and argument_2\n",
    "\tx=argument_1 #For example\n",
    "\ty = argument_2\n",
    "\n",
    "value_1 = 2\n",
    "value_2 = 3\n",
    "# Use function_name to call the function.\n",
    "function_name(value_1, value_2)\n",
    "\n",
    "# You can also call it with literals\n",
    "function_name(2,3)"
   ]
  },
  {
   "cell_type": "markdown",
   "metadata": {},
   "source": [
    "This code will not run, but it shows how functions are used in general.\n",
    "\n",
    "* Defining a function\n",
    "  \n",
    "    - Give the keyword def, which tells Python that you are about to define a function.\n",
    "\n",
    "    - Give your function a name. \n",
    "\n",
    "* Give names for each value the function needs in order to do its work.\n",
    "    \n",
    "    - These are basically variable names, but they are only used in the function, not outside.\n",
    "        \n",
    "    - These are called the function's arguments.\n",
    "    \n",
    "    - Make sure the function definition line ends with a colon.\n",
    "\n",
    "* Inside the function, write whatever code you need to make the function do its work.\n",
    "    \n",
    "    - Must be in an indented block\n",
    "    \n",
    "    - Indented block is executed whenever function is called in a program\n",
    "    \n",
    "    - Control returns to the next line of program once function execution is complete.\n",
    "\n",
    "* Using your function\n",
    "    - To call your function, write its name followed by parentheses.\n",
    "    \n",
    "    - Inside the parentheses, give the values you want the function to work with.\n",
    "    \n",
    "    - These can be variables created earlier in the program \n",
    "    \n",
    "    - They can also be actual values such as numbers, lists, strings, dictionaries etc.\n",
    "    \n",
    "    \n",
    "    \n",
    "    \n",
    "    \n",
    "    "
   ]
  },
  {
   "cell_type": "markdown",
   "metadata": {},
   "source": [
    "# Basic Examples\n",
    "For a simple first example, we will look at a program that compliments people. Let's look at the example, and then try to understand the code. First we will look at a version of this program as we would have written it earlier, with no functions."
   ]
  },
  {
   "cell_type": "code",
   "execution_count": 1,
   "metadata": {},
   "outputs": [
    {
     "name": "stdout",
     "output_type": "stream",
     "text": [
      "You are doing good work, Arun!\n",
      "Thank you very much for your efforts on this project.\n",
      "\n",
      "You are doing good work, Manu!\n",
      "Thank you very much for your efforts on this project.\n",
      "\n",
      "You are doing good work, Asmi!\n",
      "Thank you very much for your efforts on this project.\n"
     ]
    }
   ],
   "source": [
    "print(\"You are doing good work, Arun!\")\n",
    "print(\"Thank you very much for your efforts on this project.\")\n",
    "\n",
    "print(\"\\nYou are doing good work, Manu!\")\n",
    "print(\"Thank you very much for your efforts on this project.\")\n",
    "\n",
    "print(\"\\nYou are doing good work, Asmi!\")\n",
    "print(\"Thank you very much for your efforts on this project.\")"
   ]
  },
  {
   "cell_type": "markdown",
   "metadata": {},
   "source": [
    "Functions take repeated code, put it in one place, and then you call that code when you want to use it. Here's what the same program looks like with a function."
   ]
  },
  {
   "cell_type": "code",
   "execution_count": 2,
   "metadata": {},
   "outputs": [
    {
     "name": "stdout",
     "output_type": "stream",
     "text": [
      "\n",
      "You are doing good work, Arun!\n",
      "Thank you very much for your efforts on this project.\n",
      "\n",
      "You are doing good work, Manu!\n",
      "Thank you very much for your efforts on this project.\n",
      "\n",
      "You are doing good work, Asmi!\n",
      "Thank you very much for your efforts on this project.\n"
     ]
    }
   ],
   "source": [
    "def thank_you(name):\n",
    "    # This function prints a two-line personalized thank you message.\n",
    "    print(f\"\\nYou are doing good work, {name}!\")\n",
    "    print(\"Thank you very much for your efforts on this project.\")\n",
    "    \n",
    "thank_you('Arun')\n",
    "thank_you('Manu')\n",
    "thank_you('Asmi')"
   ]
  },
  {
   "cell_type": "markdown",
   "metadata": {},
   "source": [
    "In our original code, each pair of print statements was run three times, and the only difference was the name of the person being thanked. When you see repetition like this, you can usually make your program more efficient by defining a function.\n",
    "\n",
    "\n",
    "To use a function we give the function's name, and then put any values the function needs in order to do its work. In this case we call the function three times, each time passing it a different name.\n",
    "\n"
   ]
  },
  {
   "cell_type": "markdown",
   "metadata": {},
   "source": [
    "# Returning a Value\n",
    "\n",
    "Each function you create can return a value. This can be in addition to the primary work the function does, or it can be the function's main job. The following function takes in a number, and returns the corresponding word for that number:"
   ]
  },
  {
   "cell_type": "code",
   "execution_count": 3,
   "metadata": {},
   "outputs": [
    {
     "name": "stdout",
     "output_type": "stream",
     "text": [
      "0 None\n",
      "1 one\n",
      "2 two\n",
      "3 three\n"
     ]
    }
   ],
   "source": [
    "def get_number_word(number):\n",
    "    # Takes in a numerical value, and returns\n",
    "    #  the word corresponding to that number.\n",
    "    if number == 1:\n",
    "        return 'one'\n",
    "    elif number == 2:\n",
    "        return 'two'\n",
    "    elif number == 3:\n",
    "        return 'three'\n",
    "    \n",
    "# Let's try out our function.\n",
    "for current_number in range(0,4):\n",
    "    number_word = get_number_word(current_number)\n",
    "    print(current_number, number_word)"
   ]
  }
 ],
 "metadata": {
  "kernelspec": {
   "display_name": "Python [conda env:hpc]",
   "language": "python",
   "name": "conda-env-hpc-py"
  },
  "language_info": {
   "codemirror_mode": {
    "name": "ipython",
    "version": 3
   },
   "file_extension": ".py",
   "mimetype": "text/x-python",
   "name": "python",
   "nbconvert_exporter": "python",
   "pygments_lexer": "ipython3",
   "version": "3.11.7"
  }
 },
 "nbformat": 4,
 "nbformat_minor": 2
}
