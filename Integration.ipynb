{
  "cells": [
    {
      "cell_type": "markdown",
      "metadata": {
        "id": "view-in-github",
        "colab_type": "text"
      },
      "source": [
        "<a href=\"https://colab.research.google.com/github/hariseldon99/msph402b/blob/main/Integration.ipynb\" target=\"_parent\"><img src=\"https://colab.research.google.com/assets/colab-badge.svg\" alt=\"Open In Colab\"/></a>"
      ]
    },
    {
      "cell_type": "markdown",
      "id": "e39a59d4-09b9-4636-88f9-596535c15f59",
      "metadata": {
        "execution": {
          "iopub.execute_input": "2022-02-15T13:08:23.127952Z",
          "iopub.status.busy": "2022-02-15T13:08:23.127788Z",
          "iopub.status.idle": "2022-02-15T13:08:23.134533Z",
          "shell.execute_reply": "2022-02-15T13:08:23.134107Z",
          "shell.execute_reply.started": "2022-02-15T13:08:23.127936Z"
        },
        "tags": [],
        "id": "e39a59d4-09b9-4636-88f9-596535c15f59"
      },
      "source": [
        "**Integration by the Trapezoid Rule:**\n",
        "\n",
        "#### The Problem:\n",
        "\n",
        "The vertical velocity of a rocket is given by the formula\n",
        "\n",
        "\\begin{equation*}\n",
        "v(t) = 2000\\;\\ln{\\bigg\\{\\frac{140000}{140000-2100t}\\bigg\\}}-9.8t\n",
        "\\end{equation*}\n",
        "\n",
        "Use the Multi-Segment Trapezoidal rule with different step sizes to get various estimates of the distance traveled by the rocket from t=8 to t=30 seconds. \n",
        "Compare with the exact value:\n",
        "\n",
        "\\begin{equation*}\n",
        "s = \\int^{30}_8\\; \\bigg[2000\\;\\ln{\\left\\{\\frac{140000}{140000-2100t}\\right\\}}-9.8t\\bigg]\\;\\mathrm{d}t=11061\\;m\n",
        "\\end{equation*}\n",
        "\n"
      ]
    },
    {
      "cell_type": "code",
      "execution_count": null,
      "id": "ac33b3cf-e628-4d67-94dd-c6d9f064f8b8",
      "metadata": {
        "execution": {
          "iopub.execute_input": "2022-02-15T13:17:20.438633Z",
          "iopub.status.busy": "2022-02-15T13:17:20.438465Z",
          "iopub.status.idle": "2022-02-15T13:17:20.445998Z",
          "shell.execute_reply": "2022-02-15T13:17:20.445535Z",
          "shell.execute_reply.started": "2022-02-15T13:17:20.438617Z"
        },
        "tags": [],
        "id": "ac33b3cf-e628-4d67-94dd-c6d9f064f8b8",
        "outputId": "3e6bc069-8751-4e61-be63-196fd540f696"
      },
      "outputs": [
        {
          "name": "stdout",
          "output_type": "stream",
          "text": [
            "  n    Value    % Rel Error\n",
            "---  -------  -------------\n",
            "  2  11868.3       7.29905\n",
            "  3  11266.4       1.85674\n",
            "  4  11152.8       0.829573\n",
            "  5  11112.8       0.468499\n",
            "  6  11094.3       0.301092\n",
            "  7  11084.2       0.210079\n",
            "  8  11078.2       0.155176\n",
            "  9  11074.2       0.119531\n"
          ]
        }
      ],
      "source": [
        "import numpy as np\n",
        "from scipy.integrate import trapezoid\n",
        "from tabulate import tabulate\n",
        "\n",
        "def distance(times, nsteps=4):\n",
        "    t0, t1 = times\n",
        "    times = np.linspace(t0,t1,nsteps)\n",
        "    integrand = 2000 * np.log(140000/(140000-2100*times)) - 9.8 * times\n",
        "    return trapezoid(integrand, times)\n",
        "\n",
        "times = 8, 30\n",
        "nvals = np.arange(2,10)\n",
        "exact_value = 11061\n",
        "\n",
        "trap_vals = np.array([distance(times, nsteps=n) for n in nvals])\n",
        "\n",
        "# Below is a dictionary of keys and values to tabulate. This can be easily tabulated\n",
        "# using the 'tabulate' function from the module 'tabulate'. Check help for details.\n",
        "tabledata = {\"n\":nvals, \"Value\": trap_vals, \"% Rel Error\":np.abs((trap_vals - exact_value) * 100/exact_value)}\n",
        "\n",
        "print(tabulate(tabledata, headers=\"keys\"))"
      ]
    },
    {
      "cell_type": "markdown",
      "id": "60d6d638-0659-443e-a162-3ba59dd9606f",
      "metadata": {
        "id": "60d6d638-0659-443e-a162-3ba59dd9606f"
      },
      "source": [
        "#### The Problem:\n",
        "\n",
        "Consider the integral\n",
        "\n",
        "\\begin{equation*}\n",
        "\\int^{10}_0 \\frac{300x}{1+e^x}\\;\\mathrm{d}x\n",
        "\\end{equation*}\n",
        "\n",
        "Use the Multi-Segment Trapezoidal rule with different step sizes to get various estimates of the integral.Compare with the exact value: 246.59"
      ]
    },
    {
      "cell_type": "code",
      "execution_count": null,
      "id": "7a8d7a0f-e75c-4c84-b1a1-bc79b43dbb4e",
      "metadata": {
        "execution": {
          "iopub.execute_input": "2022-02-15T14:02:05.034336Z",
          "iopub.status.busy": "2022-02-15T14:02:05.034156Z",
          "iopub.status.idle": "2022-02-15T14:02:05.040413Z",
          "shell.execute_reply": "2022-02-15T14:02:05.039884Z",
          "shell.execute_reply.started": "2022-02-15T14:02:05.034305Z"
        },
        "tags": [],
        "id": "7a8d7a0f-e75c-4c84-b1a1-bc79b43dbb4e",
        "outputId": "6dd5b4bc-0615-4274-cecb-fffdc6ab4f71"
      },
      "outputs": [
        {
          "name": "stdout",
          "output_type": "stream",
          "text": [
            "  n       Value    % Rel Error\n",
            "---  ----------  -------------\n",
            "  2    0.680968       99.7238\n",
            "  3   50.5369         79.5057\n",
            "  4  123.518          49.9097\n",
            "  5  170.612          30.8115\n",
            "  6  196.858          20.168\n",
            "  7  211.883          14.0747\n",
            "  8  221.066          10.3509\n",
            "  9  227.044           7.92643\n"
          ]
        }
      ],
      "source": [
        "import numpy as np\n",
        "from scipy.integrate import trapezoid\n",
        "from tabulate import tabulate\n",
        "\n",
        "def distance(times, nsteps=4):\n",
        "    t0, t1 = times\n",
        "    times = np.linspace(t0,t1,nsteps)\n",
        "    integrand = 300 * times/(1 + np.exp(times))\n",
        "    return trapezoid(integrand, times)\n",
        "\n",
        "times = 0, 10\n",
        "nvals = np.arange(2,10)\n",
        "exact_value = 246.59\n",
        "\n",
        "trap_vals = np.array([distance(times, nsteps=n) for n in nvals])\n",
        "tabledata = {\"n\":nvals, \"Value\": trap_vals, \"% Rel Error\":np.abs((trap_vals - exact_value) * 100/exact_value)}\n",
        "\n",
        "print(tabulate(tabledata, headers=\"keys\"))"
      ]
    },
    {
      "cell_type": "markdown",
      "id": "834234d7-99b3-494d-99e4-f686f96341fd",
      "metadata": {
        "id": "834234d7-99b3-494d-99e4-f686f96341fd"
      },
      "source": [
        "The results are poorer than the previous case due to relatively more rapid variations in the integrand in the integration interval. As homework, plot these integrands using matplotlib and verify this. Below, the integral above is performed with $300$ segments"
      ]
    },
    {
      "cell_type": "code",
      "execution_count": null,
      "id": "8b10ab6a-1fb7-46c2-be93-97c5c6d30380",
      "metadata": {
        "execution": {
          "iopub.execute_input": "2022-02-15T14:16:54.745061Z",
          "iopub.status.busy": "2022-02-15T14:16:54.744879Z",
          "iopub.status.idle": "2022-02-15T14:16:54.749128Z",
          "shell.execute_reply": "2022-02-15T14:16:54.748594Z",
          "shell.execute_reply.started": "2022-02-15T14:16:54.745030Z"
        },
        "tags": [],
        "id": "8b10ab6a-1fb7-46c2-be93-97c5c6d30380",
        "outputId": "7a93857d-e09a-4eb0-f3b7-e806ed0609ce"
      },
      "outputs": [
        {
          "name": "stdout",
          "output_type": "stream",
          "text": [
            "n=300, integral =  246.57630013395902  Rel. Err % =  0.005555726526209566\n"
          ]
        }
      ],
      "source": [
        "trap_val = distance(times, nsteps=300)\n",
        "print(\"n=300, integral = \", trap_val, \" Rel. Err % = \", np.abs((trap_val - exact_value) * 100/exact_value))"
      ]
    },
    {
      "cell_type": "markdown",
      "id": "c10fa73b-743c-461f-9f3d-65dfae607124",
      "metadata": {
        "id": "c10fa73b-743c-461f-9f3d-65dfae607124"
      },
      "source": [
        "#### The Problem:\n",
        "\n",
        "Consider the integral\n",
        "\n",
        "\\begin{equation*}\n",
        "\\int^{10}_0 \\frac{\\sin{x}}{x}\\;\\mathrm{d}x\n",
        "\\end{equation*}\n",
        "\n",
        "This integral cannot be evaluated analytically. Use the Multi-Segment Trapezoidal rule with different step sizes to get various estimates of the integral. Evaluate the accuracy of each stepsize using the 'interval-halving' method and tabulate your results.\n"
      ]
    },
    {
      "cell_type": "code",
      "execution_count": null,
      "id": "78811483-357d-4869-82a2-f9bbba7f4d66",
      "metadata": {
        "execution": {
          "iopub.execute_input": "2022-02-16T09:09:44.801901Z",
          "iopub.status.busy": "2022-02-16T09:09:44.801214Z",
          "iopub.status.idle": "2022-02-16T09:09:44.818087Z",
          "shell.execute_reply": "2022-02-16T09:09:44.817354Z",
          "shell.execute_reply.started": "2022-02-16T09:09:44.801848Z"
        },
        "tags": [],
        "id": "78811483-357d-4869-82a2-f9bbba7f4d66",
        "outputId": "2e65218a-6168-4f0b-b833-82dfa40b1086"
      },
      "outputs": [
        {
          "name": "stdout",
          "output_type": "stream",
          "text": [
            "   n    Value        epsabs\n",
            "----  -------  ------------\n",
            "   2  4.72799  -1\n",
            "   4  1.5725   -1.05183\n",
            "   8  1.64463   0.0240406\n",
            "  16  1.65542   0.00359921\n",
            "  32  1.65767   0.000747393\n",
            "  64  1.65818   0.000172189\n",
            " 128  1.65831   4.14199e-05\n",
            " 256  1.65834   1.01628e-05\n",
            " 512  1.65834   2.51733e-06\n",
            "1024  1.65835   6.26451e-07\n",
            "2048  1.65835   1.56255e-07\n",
            "4096  1.65835   3.90192e-08\n",
            "8192  1.65835   9.74925e-09\n"
          ]
        }
      ],
      "source": [
        "import numpy as np\n",
        "from scipy.integrate import trapezoid\n",
        "from tabulate import tabulate\n",
        "\n",
        "def integral(xrange, nsteps=4):\n",
        "    x0, x1 = xrange\n",
        "    xarr = np.linspace(x0,x1,nsteps)\n",
        "    integrand = np.sin(xarr)/xarr\n",
        "    return trapezoid(integrand, xarr)\n",
        "\n",
        "times = 1e-6, 10\n",
        "\n",
        "maxlvl = 14 \n",
        "nvals = 2**np.arange(1, maxlvl) # Highest value of n is 2^maxlvl\n",
        "trap_vals = np.array([integral(times, nsteps=n) for n in nvals])\n",
        "\n",
        "epsabs = [(1/3)*(trap_vals[i]-trap_vals[i-1]) for i in np.arange(maxlvl-1)]\n",
        "epsabs[0] = -1 # The first error cannot be evaluated and is meaningless\n",
        "\n",
        "tabledata = {\"n\":nvals, \"Value\": trap_vals, \"epsabs\": epsabs}\n",
        "\n",
        "print(tabulate(tabledata, headers=\"keys\"))"
      ]
    },
    {
      "cell_type": "markdown",
      "id": "e065050f-8bc6-4158-bce9-cebe1f0518f1",
      "metadata": {
        "id": "e065050f-8bc6-4158-bce9-cebe1f0518f1"
      },
      "source": [
        "**Integration by Simpson's 1/3rd Rule:**\n",
        "\n",
        "#### The Problem:\n",
        "\n",
        "Consider the integral\n",
        "\n",
        "\\begin{equation*}\n",
        "\\int^{10}_0 \\frac{\\sin{x}}{x}\\;\\mathrm{d}x\n",
        "\\end{equation*}\n",
        "\n",
        "This integral cannot be evaluated analytically. Use the Multi-Segment Simpson's rule with different step sizes to get various estimates of the integral. Evaluate the accuracy of each stepsize using the 'interval-halving' method and tabulate your results. Compare with the previous estimations using the Trapezoid rule."
      ]
    },
    {
      "cell_type": "code",
      "execution_count": null,
      "id": "7890fac0-58c8-417e-87cf-3aabb1feec20",
      "metadata": {
        "execution": {
          "iopub.execute_input": "2022-02-16T09:18:58.732841Z",
          "iopub.status.busy": "2022-02-16T09:18:58.732684Z",
          "iopub.status.idle": "2022-02-16T09:18:58.741845Z",
          "shell.execute_reply": "2022-02-16T09:18:58.741489Z",
          "shell.execute_reply.started": "2022-02-16T09:18:58.732825Z"
        },
        "tags": [],
        "id": "7890fac0-58c8-417e-87cf-3aabb1feec20",
        "outputId": "3ee0d8f8-8f6a-4af4-c019-90a20c5e16c1"
      },
      "outputs": [
        {
          "name": "stdout",
          "output_type": "stream",
          "text": [
            "   n    Value        epsabs\n",
            "----  -------  ------------\n",
            "   2  4.72799  -1\n",
            "   4  1.30955  -0.227896\n",
            "   8  1.62501   0.021031\n",
            "  16  1.65496   0.00199687\n",
            "  32  1.65797   0.000200355\n",
            "  64  1.6583    2.21768e-05\n",
            " 128  1.65834   2.60278e-06\n",
            " 256  1.65835   3.15102e-07\n",
            " 512  1.65835   3.87582e-08\n",
            "1024  1.65835   4.80576e-09\n",
            "2048  1.65835   5.98293e-10\n",
            "4096  1.65835   7.46353e-11\n",
            "8192  1.65835   9.31998e-12\n"
          ]
        }
      ],
      "source": [
        "import numpy as np\n",
        "from scipy.integrate import simpson\n",
        "from tabulate import tabulate\n",
        "\n",
        "def integral(xrange, nsteps=4):\n",
        "    x0, x1 = xrange\n",
        "    xarr = np.linspace(x0,x1,nsteps)\n",
        "    integrand = np.sin(xarr)/xarr\n",
        "    return simpson(integrand, xarr)\n",
        "\n",
        "times = 1e-6, 10\n",
        "\n",
        "maxlvl = 14 \n",
        "nvals = 2**np.arange(1, maxlvl) # Highest value of n is 2^maxlvl\n",
        "trap_vals = np.array([integral(times, nsteps=n) for n in nvals])\n",
        "\n",
        "epsabs = [(1/15)*(trap_vals[i]-trap_vals[i-1]) for i in np.arange(maxlvl-1)]\n",
        "epsabs[0] = -1 # The first error cannot be evaluated and is meaningless\n",
        "\n",
        "tabledata = {\"n\":nvals, \"Value\": trap_vals, \"epsabs\": epsabs}\n",
        "\n",
        "print(tabulate(tabledata, headers=\"keys\"))"
      ]
    }
  ],
  "metadata": {
    "kernelspec": {
      "display_name": "Python 3 (ipykernel)",
      "language": "python",
      "name": "python3"
    },
    "language_info": {
      "codemirror_mode": {
        "name": "ipython",
        "version": 3
      },
      "file_extension": ".py",
      "mimetype": "text/x-python",
      "name": "python",
      "nbconvert_exporter": "python",
      "pygments_lexer": "ipython3",
      "version": "3.8.8"
    },
    "colab": {
      "name": "Integration.ipynb",
      "provenance": [],
      "include_colab_link": true
    }
  },
  "nbformat": 4,
  "nbformat_minor": 5
}