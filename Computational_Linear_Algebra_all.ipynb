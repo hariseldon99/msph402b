{
 "cells": [
  {
   "cell_type": "markdown",
   "metadata": {
    "colab_type": "text",
    "id": "view-in-github"
   },
   "source": [
    "<a href=\"https://colab.research.google.com/github/hariseldon99/msph402b/blob/main/Computational_Linear_Algebra_all.ipynb\" target=\"_parent\"><img src=\"https://colab.research.google.com/assets/colab-badge.svg\" alt=\"Open In Colab\"/></a>"
   ]
  },
  {
   "cell_type": "markdown",
   "metadata": {
    "id": "VUW31D4ZhD-s"
   },
   "source": [
    "All Example Codes for Computational Linear Algebra\n",
    "==================================================="
   ]
  },
  {
   "cell_type": "markdown",
   "metadata": {
    "id": "Xz3bgGKBhyUZ"
   },
   "source": [
    "**Examples for Gaussian Method**\n",
    "* From file [gauss_method_ex.py](03-Computational_Linear_Algebra/gauss_method_ex.py)\n",
    "\n",
    "#### The Problem:\n",
    "\n",
    "Use the Gaussian elimination method to solve the following sets of linear equations.\n",
    "\n",
    "\\begin{align*}\n",
    "25x + 5y + z &= 106.8 \\\\\n",
    "64x + 8y + z &= 177.2 \\\\\n",
    "144x + 12y + z &=279.2,\n",
    "\\end{align*}\n",
    "\n",
    "and\n",
    "\n",
    "\\begin{align*}\n",
    "12x + 10y - 7z &= 15 \\\\\n",
    "6x + 5y + 3z &=  4\\\\\n",
    "5x - y + 5z &= 9\n",
    "\\end{align*}"
   ]
  },
  {
   "cell_type": "code",
   "execution_count": 2,
   "metadata": {
    "colab": {
     "base_uri": "https://localhost:8080/"
    },
    "execution": {
     "iopub.execute_input": "2022-02-11T14:54:06.578322Z",
     "iopub.status.busy": "2022-02-11T14:54:06.577941Z",
     "iopub.status.idle": "2022-02-11T14:54:06.641031Z",
     "shell.execute_reply": "2022-02-11T14:54:06.640499Z",
     "shell.execute_reply.started": "2022-02-11T14:54:06.578303Z"
    },
    "id": "8IBqxhyUh41c",
    "outputId": "6015f425-0592-4651-d4ae-108fc823826b"
   },
   "outputs": [
    {
     "name": "stdout",
     "output_type": "stream",
     "text": [
      "Defined\n"
     ]
    }
   ],
   "source": [
    "import numpy as np\n",
    "\n",
    "def GEPP(A, b, doPP = True):\n",
    "    '''\n",
    "    Gaussian elimination with partial pivoting.\n",
    "    \n",
    "    input: A is an n x n numpy matrix\n",
    "           b is an n x 1 numpy array\n",
    "    output: x is the solution of Ax=b \n",
    "            with the entries permuted in \n",
    "            accordance with the pivoting \n",
    "            done by the algorithm\n",
    "    post-condition: A and b have been modified.\n",
    "    '''\n",
    "    n = len(A)\n",
    "    if b.size != n:\n",
    "        raise ValueError(\"Invalid argument: incompatible sizes between\"+\n",
    "                         \"A & b.\", b.size, n)\n",
    "    # k represents the current pivot row. Since GE traverses the matrix in the \n",
    "    # upper right triangle, we also use k for indicating the k-th diagonal \n",
    "    # column index.\n",
    "    \n",
    "    # Elimination\n",
    "    for k in range(n-1):\n",
    "        if doPP:\n",
    "            # Pivot\n",
    "            maxindex = abs(A[k:,k]).argmax() + k\n",
    "            if A[maxindex, k] == 0:\n",
    "                raise ValueError(\"Matrix is singular.\")\n",
    "            # Swap\n",
    "            if maxindex != k:\n",
    "                A[[k,maxindex]] = A[[maxindex, k]]\n",
    "                b[[k,maxindex]] = b[[maxindex, k]]\n",
    "        else:\n",
    "            if A[k, k] == 0:\n",
    "                raise ValueError(\"Pivot element is zero. Try setting doPP to True.\")\n",
    "        #Eliminate\n",
    "        for row in range(k+1, n):\n",
    "            multiplier = A[row,k]/A[k,k]\n",
    "            A[row, k:] = A[row, k:] - multiplier * A[k, k:]\n",
    "            b[row] = b[row] - multiplier*b[k]\n",
    "    # Back Substitution\n",
    "    x = np.zeros(n)\n",
    "    for k in range(n-1, -1, -1):\n",
    "        x[k] = (b[k] - np.dot(A[k,k+1:],x[k+1:]))/A[k,k]\n",
    "    return x\n",
    "\n",
    "def det(A):\n",
    "  _= GEPP(A, np.ones(A.shape[0]), doPP=True)\n",
    "  return np.prod(np.diagonal(A))\n",
    "\n",
    "\n",
    "print(\"Defined\")"
   ]
  },
  {
   "cell_type": "code",
   "execution_count": 56,
   "metadata": {
    "colab": {
     "base_uri": "https://localhost:8080/"
    },
    "id": "dW40vUVTibMr",
    "outputId": "9ff12018-41a2-4748-d5eb-9875cdfd1b36"
   },
   "outputs": [
    {
     "name": "stdout",
     "output_type": "stream",
     "text": [
      "First solution is given by x = [ 0.29047619 19.69047619  1.08571429]\n",
      "Error is  3.372216160495845e-14 %\n",
      "Determinant of first matrix is  -83.99999999999999\n",
      "Second solution is given by x = [ 2.06699752 -1.3573201  -0.53846154]\n",
      "Error is  2.334733358973876e-14 %\n"
     ]
    }
   ],
   "source": [
    "A = np.array([[25., 5., 1.],\n",
    "              [64., 8., 1.],\n",
    "              [144., 12., 1.]])\n",
    "\n",
    "b = np.array([106.8,\n",
    "              177.2,\n",
    "              279.2])\n",
    "\n",
    "x = GEPP(np.copy(A),np.copy(b), doPP=False)\n",
    "print(\"First solution is given by x =\", x)\n",
    "print(\"Error is \", np.linalg.norm(A@x - b) * 100/np.linalg.norm(b), \"%\")\n",
    "\n",
    "print(\"Determinant of first matrix is \", det(np.copy(A)))\n",
    "\n",
    "A = np.array([[12., 10., -7.],\n",
    "              [6., 5., 3.],\n",
    "              [5., -1., 5.]])\n",
    "\n",
    "b = np.array([15.,\n",
    "              4.,\n",
    "              9.])\n",
    "\n",
    "try:\n",
    "  x = GEPP(np.copy(A),np.copy(b), doPP=False)\n",
    "except ValueError:\n",
    "  x = GEPP(np.copy(A),np.copy(b))\n",
    "print(\"Second solution is given by x =\", x)\n",
    "print(\"Error is \", np.linalg.norm(A@x - b) * 100/np.linalg.norm(b), \"%\")"
   ]
  },
  {
   "cell_type": "markdown",
   "metadata": {
    "id": "_RNxfzVIf_Nh"
   },
   "source": [
    "**Examples for LU Decomposition Method**\n",
    "* From file [lu_decomp_ex.py](03-Computational_Linear_Algebra/lu_decomp_ex.py)\n",
    "\n",
    "#### The Problem:\n",
    "\n",
    "Solve the first of two systems of linear equations in the previous problem using the LU decomposition method."
   ]
  },
  {
   "cell_type": "code",
   "execution_count": 77,
   "metadata": {
    "colab": {
     "base_uri": "https://localhost:8080/"
    },
    "id": "rx1aJd6dyuPk",
    "outputId": "1ba5a54f-fe2a-4ae5-a8bf-3b4be8bde19b"
   },
   "outputs": [
    {
     "name": "stdout",
     "output_type": "stream",
     "text": [
      "Decomposed L Matrix:\n",
      " [[144.           0.           0.        ]\n",
      " [  0.17361111   2.91666667   0.        ]\n",
      " [  0.44444444   0.91428571  -0.2       ]]\n",
      "\n",
      "\n",
      "Decomposed U Matrix:\n",
      " [[ 0.         12.          1.        ]\n",
      " [ 0.          0.          0.82638889]\n",
      " [ 0.          0.          0.        ]]\n",
      "\n",
      "Solution is x = [ 0.29047619 19.69047619  1.08571429]\n",
      "Solution is close? True\n",
      "\n",
      "\n",
      "Inverse of matrix is:\n",
      " [[ 0.04761905 -0.08333333  0.03571429]\n",
      " [-0.95238095  1.41666667 -0.46428571]\n",
      " [ 4.57142857 -5.          1.42857143]]\n",
      "Solution is close? True\n"
     ]
    }
   ],
   "source": [
    "import numpy as np\n",
    "from scipy.linalg import lu_factor, lu_solve\n",
    "A = np.array([[25., 5., 1.],\n",
    "              [64., 8., 1.],\n",
    "              [144., 12., 1.]])\n",
    "\n",
    "b = np.array([106.8,\n",
    "              177.2,\n",
    "              279.2])\n",
    "\n",
    "A_fact, piv = lu_factor(A.copy())\n",
    "\n",
    "print(\"Decomposed L Matrix:\\n\", np.tril(A_fact, k=0))\n",
    "print(\"\\n\\nDecomposed U Matrix:\\n\", np.triu(A_fact, k=1))\n",
    "\n",
    "x = lu_solve((A_fact.copy(), piv),b)\n",
    "\n",
    "print(\"\\nSolution is x =\", x)\n",
    "print(\"Solution is close?\", np.allclose(A @ x, b))\n",
    "\n",
    "id = np.eye(A.shape[0])\n",
    "A_inv = np.zeros_like(A)\n",
    "\n",
    "for i,row in enumerate(id):\n",
    "  A_inv[:,i] = lu_solve((A_fact.copy(), piv),row)\n",
    "\n",
    "print(\"\\n\\nInverse of matrix is:\\n\", A_inv)\n",
    "print(\"Solution is close?\", np.allclose(A @ A_inv, id))\n",
    "\n"
   ]
  },
  {
   "cell_type": "markdown",
   "metadata": {
    "id": "pKHw6RLgharg"
   },
   "source": [
    "**Examples for Gauss-Seidel Method**\n",
    "* From file [gauss_seidel_ex.py](03-Computational_Linear_Algebra/gauss_method_ex.py)\n",
    "\n",
    "#### The Problem:\n",
    "\n",
    "Solve the following system of linear equations using the Gauss-Seidel method, displaying the relative error at each iteration until the solution approaches a fixed point within a small tolerance.\n",
    "\n",
    "\\begin{align*}\n",
    "16x + 3y &= 11\\\\\n",
    "7x - 11y &= 13.\n",
    "\\end{align*}\n",
    "\n",
    "Repeat this method for the system of linear equations from the previous problem and show that the method fails."
   ]
  },
  {
   "cell_type": "code",
   "execution_count": 3,
   "metadata": {
    "colab": {
     "base_uri": "https://localhost:8080/"
    },
    "execution": {
     "iopub.execute_input": "2022-02-11T14:54:11.198531Z",
     "iopub.status.busy": "2022-02-11T14:54:11.198364Z",
     "iopub.status.idle": "2022-02-11T14:54:11.205526Z",
     "shell.execute_reply": "2022-02-11T14:54:11.205002Z",
     "shell.execute_reply.started": "2022-02-11T14:54:11.198512Z"
    },
    "id": "eOPIVufAomjR",
    "outputId": "e425721e-7bbb-4b17-f4e4-15dba881231a"
   },
   "outputs": [
    {
     "name": "stdout",
     "output_type": "stream",
     "text": [
      "Defined!\n"
     ]
    }
   ],
   "source": [
    "import numpy as np\n",
    "\n",
    "def gauss_seidel(A, b, tolerance=1e-10, max_iterations=100000, verbose=False):\n",
    "    \"\"\"\n",
    "    Simple Function for the Gauss-Seidel Method for solving a system of linear equations\n",
    "    Returns a numpy array consisting of the solution x, where A . x = b  \n",
    "\n",
    "            Parameters:\n",
    "                    A (numpy array): A square matrix of coefficients\n",
    "                    b (numpy array): The RHS vector of the linear system\n",
    "\n",
    "            Returns:\n",
    "                    x (numpy array): Solution to the equation A . x = b \n",
    "    \"\"\"\n",
    "    x = np.zeros_like(b, dtype=np.double)\n",
    "    \n",
    "    if verbose:\n",
    "      print(\"Iteration\\t% soln: Relative err\")\n",
    "    #Iterate\n",
    "    for k in range(max_iterations):\n",
    "        \n",
    "        x_old  = x.copy()\n",
    "        \n",
    "        #Loop over rows\n",
    "        for i in range(A.shape[0]):\n",
    "            x[i] = (b[i] - np.dot(A[i,:i], x[:i]) - np.dot(A[i,(i+1):], x_old[(i+1):])) / A[i ,i]\n",
    "        \n",
    "        error = np.linalg.norm(x - x_old, ord=np.inf) / np.linalg.norm(x, ord=np.inf)\n",
    "        if verbose:\n",
    "          print(\"%lf\\t %1.4lf \" % (k, error * 100))\n",
    "        \n",
    "        #Stop condition \n",
    "        if error < tolerance:\n",
    "            break\n",
    "    if k == max_iterations -1:\n",
    "      raise StopIteration(\"Error: Maximum iterations exceeded\", k)\n",
    "    \n",
    "    return x\n",
    "\n",
    "def isDDM(m, n):\n",
    "  \"\"\"\n",
    "  Checks a numpy 2d square array for diagonal dominance\n",
    "  \"\"\"\n",
    " \n",
    "  # for each row\n",
    "  for i in range(0, n):   \n",
    "    # for each column, finding sum of each row sans the diagonal\n",
    "    sum = np.sum(m[i]) - np.abs(m[i,i])  \n",
    "    if (abs(m[i,i]) < sum) :\n",
    "        return False\n",
    " \n",
    "  return True\n",
    "\n",
    "print(\"Defined!\")"
   ]
  },
  {
   "cell_type": "code",
   "execution_count": 33,
   "metadata": {
    "colab": {
     "base_uri": "https://localhost:8080/"
    },
    "id": "hOdkNnh3iFOx",
    "outputId": "0e86034a-70db-47f5-bb9e-adfb9b82c6a5"
   },
   "outputs": [
    {
     "name": "stdout",
     "output_type": "stream",
     "text": [
      "Iteration\t% soln: Relative err\n",
      "0.000000\t 100.0000 \n",
      "1.000000\t 16.8742 \n",
      "2.000000\t 2.0548 \n",
      "3.000000\t 0.2446 \n",
      "4.000000\t 0.0292 \n",
      "5.000000\t 0.0035 \n",
      "6.000000\t 0.0004 \n",
      "7.000000\t 0.0000 \n",
      "8.000000\t 0.0000 \n",
      "9.000000\t 0.0000 \n",
      "10.000000\t 0.0000 \n",
      "11.000000\t 0.0000 \n",
      "12.000000\t 0.0000 \n",
      "x = [ 0.81218274 -0.66497462]\n"
     ]
    }
   ],
   "source": [
    "mat = np.array([[16, 3],\n",
    "                [7, -11]])\n",
    "\n",
    "rhs = np.array([11,\n",
    "                13])\n",
    "\n",
    "print(\"x =\", gauss_seidel(mat, rhs, verbose=True))"
   ]
  },
  {
   "cell_type": "code",
   "execution_count": 34,
   "metadata": {
    "colab": {
     "base_uri": "https://localhost:8080/",
     "height": 340
    },
    "id": "UGYTC3ERcgDL",
    "outputId": "01e61c25-c4fc-413b-b116-bdbd58d3757c"
   },
   "outputs": [
    {
     "name": "stdout",
     "output_type": "stream",
     "text": [
      "Is matrix diagonally dominant? False\n"
     ]
    },
    {
     "ename": "StopIteration",
     "evalue": "ignored",
     "output_type": "error",
     "traceback": [
      "\u001b[0;31m---------------------------------------------------------------------------\u001b[0m",
      "\u001b[0;31mStopIteration\u001b[0m                             Traceback (most recent call last)",
      "\u001b[0;32m<ipython-input-34-0f8aba3659a5>\u001b[0m in \u001b[0;36m<module>\u001b[0;34m()\u001b[0m\n\u001b[1;32m      8\u001b[0m \u001b[0;34m\u001b[0m\u001b[0m\n\u001b[1;32m      9\u001b[0m \u001b[0mprint\u001b[0m\u001b[0;34m(\u001b[0m\u001b[0;34m\"Is matrix diagonally dominant?\"\u001b[0m\u001b[0;34m,\u001b[0m \u001b[0misDDM\u001b[0m\u001b[0;34m(\u001b[0m\u001b[0mmat\u001b[0m\u001b[0;34m,\u001b[0m \u001b[0;36m3\u001b[0m\u001b[0;34m)\u001b[0m\u001b[0;34m)\u001b[0m\u001b[0;34m\u001b[0m\u001b[0;34m\u001b[0m\u001b[0m\n\u001b[0;32m---> 10\u001b[0;31m \u001b[0mprint\u001b[0m\u001b[0;34m(\u001b[0m\u001b[0;34m\"x =\"\u001b[0m\u001b[0;34m,\u001b[0m \u001b[0mgauss_seidel\u001b[0m\u001b[0;34m(\u001b[0m\u001b[0mmat\u001b[0m\u001b[0;34m,\u001b[0m \u001b[0mrhs\u001b[0m\u001b[0;34m)\u001b[0m\u001b[0;34m)\u001b[0m\u001b[0;34m\u001b[0m\u001b[0;34m\u001b[0m\u001b[0m\n\u001b[0m",
      "\u001b[0;32m<ipython-input-32-a16c4651517b>\u001b[0m in \u001b[0;36mgauss_seidel\u001b[0;34m(A, b, tolerance, max_iterations, verbose)\u001b[0m\n\u001b[1;32m     34\u001b[0m             \u001b[0;32mbreak\u001b[0m\u001b[0;34m\u001b[0m\u001b[0;34m\u001b[0m\u001b[0m\n\u001b[1;32m     35\u001b[0m     \u001b[0;32mif\u001b[0m \u001b[0mk\u001b[0m \u001b[0;34m==\u001b[0m \u001b[0mmax_iterations\u001b[0m \u001b[0;34m-\u001b[0m\u001b[0;36m1\u001b[0m\u001b[0;34m:\u001b[0m\u001b[0;34m\u001b[0m\u001b[0;34m\u001b[0m\u001b[0m\n\u001b[0;32m---> 36\u001b[0;31m       \u001b[0;32mraise\u001b[0m \u001b[0mStopIteration\u001b[0m\u001b[0;34m(\u001b[0m\u001b[0;34m\"Error: Maximum iterations exceeded\"\u001b[0m\u001b[0;34m,\u001b[0m \u001b[0mk\u001b[0m\u001b[0;34m)\u001b[0m\u001b[0;34m\u001b[0m\u001b[0;34m\u001b[0m\u001b[0m\n\u001b[0m\u001b[1;32m     37\u001b[0m \u001b[0;34m\u001b[0m\u001b[0m\n\u001b[1;32m     38\u001b[0m     \u001b[0;32mreturn\u001b[0m \u001b[0mx\u001b[0m\u001b[0;34m\u001b[0m\u001b[0;34m\u001b[0m\u001b[0m\n",
      "\u001b[0;31mStopIteration\u001b[0m: ('Error: Maximum iterations exceeded', 99999)"
     ]
    }
   ],
   "source": [
    "mat = np.array([[25, 5, 1],\n",
    "                [64, 8, 1],\n",
    "                [144, 12, 1]])\n",
    "\n",
    "rhs = np.array([106.8,\n",
    "                177.2,\n",
    "                279.2])\n",
    "\n",
    "print(\"Is matrix diagonally dominant?\", isDDM(mat, 3))\n",
    "print(\"x =\", gauss_seidel(mat, rhs))"
   ]
  },
  {
   "cell_type": "markdown",
   "metadata": {},
   "source": [
    "#### The Problem:\n",
    "\n",
    "Apply the previous algorithm for the Gauss-Seidel method in order to solve the following system of linear equations. \n",
    "\\begin{align*}\n",
    "12x + 3y - 5z &=1\\\\\n",
    "x + 5y + 3z &=28\\\\\n",
    "3x + 7y + 13z &=76\n",
    "\\end{align*}\n",
    "\n",
    "Check for diagonal dominance before you run the solution algorithm. Repeat the same with the first two equations interchanged and observe how the loss of diagonal dominance leads to the failure of the Gauss-Seidel method, despite the fact that the system of equations have not fundamentally changed.\n"
   ]
  },
  {
   "cell_type": "code",
   "execution_count": 4,
   "metadata": {
    "colab": {
     "base_uri": "https://localhost:8080/"
    },
    "execution": {
     "iopub.execute_input": "2022-02-11T14:54:14.965042Z",
     "iopub.status.busy": "2022-02-11T14:54:14.964605Z",
     "iopub.status.idle": "2022-02-11T14:54:14.970240Z",
     "shell.execute_reply": "2022-02-11T14:54:14.969767Z",
     "shell.execute_reply.started": "2022-02-11T14:54:14.965020Z"
    },
    "id": "280Jf6UYf9EF",
    "outputId": "85a310a9-adc0-402e-fcc6-378ba18f3276",
    "tags": []
   },
   "outputs": [
    {
     "name": "stdout",
     "output_type": "stream",
     "text": [
      "Is matrix diagonally dominant? True\n",
      "x = [1. 3. 4.]\n"
     ]
    }
   ],
   "source": [
    "mat = np.array([[12, 3, -5],\n",
    "                [1,  5,  3],\n",
    "                [3,  7, 13]])\n",
    "\n",
    "rhs = np.array([1,\n",
    "                28,\n",
    "                76])\n",
    "\n",
    "print(\"Is matrix diagonally dominant?\", isDDM(mat, 3))\n",
    "print(\"x =\", gauss_seidel(mat, rhs))"
   ]
  },
  {
   "cell_type": "code",
   "execution_count": 5,
   "metadata": {
    "colab": {
     "base_uri": "https://localhost:8080/"
    },
    "execution": {
     "iopub.execute_input": "2022-02-11T14:54:25.540370Z",
     "iopub.status.busy": "2022-02-11T14:54:25.539804Z",
     "iopub.status.idle": "2022-02-11T14:54:28.233803Z",
     "shell.execute_reply": "2022-02-11T14:54:28.233364Z",
     "shell.execute_reply.started": "2022-02-11T14:54:25.540352Z"
    },
    "id": "yUZANoi0iWT8",
    "outputId": "611c3267-f261-4ba5-8ee3-788dafb4da8e"
   },
   "outputs": [
    {
     "name": "stdout",
     "output_type": "stream",
     "text": [
      "Is matrix diagonally dominant? False\n"
     ]
    },
    {
     "name": "stderr",
     "output_type": "stream",
     "text": [
      "/tmp/ipykernel_42343/2503164286.py:28: RuntimeWarning: invalid value encountered in double_scalars\n",
      "  error = np.linalg.norm(x - x_old, ord=np.inf) / np.linalg.norm(x, ord=np.inf)\n"
     ]
    },
    {
     "name": "stdout",
     "output_type": "stream",
     "text": [
      "The algorithm failed to converge\n"
     ]
    }
   ],
   "source": [
    "mat = np.array([[1,  5,  3],\n",
    "                [12, 3, -5],\n",
    "                [3,  7, 13]])\n",
    "\n",
    "rhs = np.array([28,\n",
    "                1,\n",
    "                76])\n",
    "\n",
    "print(\"Is matrix diagonally dominant?\", isDDM(mat, 3))\n",
    "\n",
    "try:\n",
    "  print(\"x =\", gauss_seidel(mat, rhs))\n",
    "except Exception:\n",
    "  print(\"The algorithm failed to converge\")\n"
   ]
  },
  {
   "cell_type": "markdown",
   "metadata": {},
   "source": [
    "### Application: Polynomial Regression\n",
    "\n",
    "We will use non-linear least-squares fit to determine how the length of a bluegill fish is related to its age. In the experiment, $n = 78$ bluegills were randomly sampled from a lake. The length $x$ (in mm) and age $t$ (in years) data that was gathered can be obtained at the link below\n",
    "\n",
    "[Dataset](03-Computational_Linear_Algebra/hotrod_dataset.csv)\n",
    "\n",
    "The data is in two columns. The first has the age $t_i$ and the second has the corresponding length readings $x_i$. The columns are separated by commas, making this file a **'csv'** or '*[comma separated values](https://datahub.io/docs/data-packages/csv)'*  file. Import this data into numpy arrays and use matplotlib to plot the length as a function of age. We will now try to fit this data to a quadratic, given by $x(t;a,b) = a + bt + ct^2$. The parameters $a, b, c$ are to be chosen such that the chi-square is minimized, where\n",
    "\\begin{equation*}\n",
    "\\chi^2 \\equiv \\sum_i \\bigg[\\frac{x_i -x(t_i;a,b,c)}{\\sigma_i}\\bigg]^2,\n",
    "\\end{equation*}\n",
    "and $\\sigma_i$ is the error in $x_i$. Analytically, minimizing the $\\chi^2$ with respect to $a, b, c$ leads to three simultaneous linear equations for $a,b,c$, given by\n",
    "\\begin{equation*}\n",
    "\\begin{pmatrix}\n",
    "S      & S_t     & S_{tt}\\\\\n",
    "S_t    & S_{tt}  & S_{ttt}\\\\\n",
    "S_{tt} & S_{ttt} & S_{tttt}\n",
    "\\end{pmatrix}\\begin{pmatrix} a \\\\ b \\\\ c\\end{pmatrix}= \\begin{pmatrix}S_x\\\\S_{tx}\\\\S_{ttx}\\end{pmatrix}\n",
    "\\end{equation*}\n",
    "To obtain the terms in the matrices above, the following formulae may be used.\n",
    "\\begin{align*}\n",
    "S = \\sum_i \\frac{1}{\\sigma^2_i},\\; & S_t = \\sum_i \\frac{t_i}{\\sigma^2_i},\\; & S_x = \\sum_i \\frac{x_i}{\\sigma^2_i},\\\\\n",
    "S_{tt} = \\sum_i \\frac{t^2_i}{\\sigma^2_i},\\; & S_{tx} = \\sum_i \\frac{t_ix_i}{\\sigma^2_i},\\;& S_{ttt} = \\sum_i \\frac{t^3_i}{\\sigma^2_i},\\\\\n",
    "S_{tttt} = \\sum_i \\frac{t^4_i}{\\sigma^2_i},\\; & S_{ttx} = \\sum_i \\frac{t^2_ix_i}{\\sigma^2_i}, & \\\\\n",
    "\\end{align*}\n",
    "\n",
    "First, write and execute code to estimate the errors in the data for each age measured $t$. Do this by sorting the $x_i$-data corresponding to increasing values of the $t_i$-data, then estimating the length for each unique $t_i$ by averaging over the common data points. Now, you will have new values $t_j$ with average lengths $x_j$. The errors $\\sigma_j$ can be the corresponding standard deviations.\n",
    "\n",
    "Then, write and execute additional code for obtaining the fitted values of $a,b,c$ according to the formulae given above and plot the resultant quadratic polynomial, comparing it with plots of the experimental data. Obtain and display the minimum value of $\\chi^2$."
   ]
  },
  {
   "cell_type": "code",
   "execution_count": 101,
   "metadata": {
    "execution": {
     "iopub.execute_input": "2022-02-24T11:25:22.724782Z",
     "iopub.status.busy": "2022-02-24T11:25:22.724626Z",
     "iopub.status.idle": "2022-02-24T11:25:22.896311Z",
     "shell.execute_reply": "2022-02-24T11:25:22.895756Z",
     "shell.execute_reply.started": "2022-02-24T11:25:22.724764Z"
    },
    "tags": []
   },
   "outputs": [
    {
     "data": {
      "image/png": "[encoded data removed]",
      "text/plain": [
       "<Figure size 576x432 with 1 Axes>"
      ]
     },
     "metadata": {
      "needs_background": "light"
     },
     "output_type": "display_data"
    }
   ],
   "source": [
    "import numpy as np\n",
    "import matplotlib.pyplot as plt\n",
    "from scipy.linalg import lu_factor, lu_solve\n",
    "\n",
    "plt.rcParams['figure.figsize'] = (8,6)\n",
    "plt.rcParams['font.size'] = 20\n",
    "\n",
    "data = np.genfromtxt('03-Computational_Linear_Algebra/bluegills_dataset.csv', delimiter=',')\n",
    "t = data[:,0]\n",
    "x = data[:,1]\n",
    "plt.scatter(t,x, color='red', s=10, alpha=0.4)\n",
    "plt.xlabel(\"t (yr)\")\n",
    "plt.ylabel(\"x (mm)\", rotation=0)\n",
    "\n",
    "# Take only unique values of t and make an array of them\n",
    "tdata = np.array([tval for tval in set(t)]) \n",
    "\n",
    "# For each unique val of t, find the vals of x and avg/stdev them\n",
    "xdata = np.array([np.average(x[np.where(t==tval)]) for tval in tdata]) \n",
    "xerr = np.array([np.std(x[np.where(t==tval)]) for tval in tdata])\n",
    "\n",
    "plt.errorbar(tdata,xdata, yerr=xerr, color='blue',fmt=\"o\")\n",
    "\n",
    "# Now, do the Regression\n",
    "s = np.sum(1 / xerr**2)\n",
    "st = np.sum(tdata / xerr**2)\n",
    "stt = np.sum(tdata**2 / xerr**2)\n",
    "sttt = np.sum(tdata**3 / xerr**2)\n",
    "stttt = np.sum(tdata**4 / xerr**2)\n",
    "\n",
    "sx = np.sum(xdata / xerr**2)\n",
    "stx = np.sum(tdata * xdata / xerr**2)\n",
    "sttx = np.sum(tdata**2 * xdata / xerr**2)\n",
    "\n",
    "smat = np.array([[s, st, stt],\n",
    "                 [st, stt, sttt],\n",
    "                 [stt, sttt, stttt]])\n",
    "svec = np.array([sx, \n",
    "                 stx, \n",
    "                 sttx])\n",
    "\n",
    "s_fact, piv = lu_factor(smat)\n",
    "avec = lu_solve((s_fact, piv),svec)\n",
    "\n",
    "# Finally, plot the fitted function with avec coefficients\n",
    "fit_func = np.polynomial.polynomial.Polynomial(avec)\n",
    "t_fit, x_fit = fit_func.linspace(n=100, domain=[tdata[0],tdata[-1]])\n",
    "chi_sq = np.sum(((xdata - fit_func(tdata))/xerr)**2)\n",
    "\n",
    "plt.plot(t_fit, x_fit, label=f\"Quad Fit: chisq = {chi_sq:1.4f}\")\n",
    "\n",
    "\n",
    "plt.legend()\n",
    "plt.show()"
   ]
  },
  {
   "cell_type": "markdown",
   "metadata": {},
   "source": [
    "#### Postscript\n",
    "\n",
    "Actually, all this effort was not strictly necessary for the problem above. SciPy already has a fitting routine that does this automatically. Look at the help documentation for 'scipy.optimize.curve_fit'. Th problem was a simple exercise on solving linear equations numerically. In any case, make sure that your fit is correct by comparing it with the output of the 'curve_fit' routine. A part of the documentation for this fitting routine is reproduced below.\n",
    "\n",
    "\n",
    "Help on function curve_fit in module scipy.optimize.minpack:\n",
    "\n",
    "    curve_fit(f, xdata, ydata, p0=None, sigma=None, absolute_sigma=False, check_finite=True, bounds=(-inf, inf), method=None, jac=None, **kwargs)\n",
    "        Use non-linear least squares to fit a function, f, to data.\n",
    "\n",
    "        Assumes ``ydata = f(xdata, *params) + eps``.\n",
    "\n",
    "        Parameters\n",
    "        ----------\n",
    "        f : callable\n",
    "            The model function, f(x, ...). It must take the independent\n",
    "            variable as the first argument and the parameters to fit as\n",
    "            separate remaining arguments.\n",
    "        xdata : array_like or object\n",
    "            The independent variable where the data is measured.\n",
    "            Should usually be an M-length sequence or an (k,M)-shaped array for\n",
    "            functions with k predictors, but can actually be any object.\n",
    "        ydata : array_like\n",
    "            The dependent data, a length M array - nominally ``f(xdata, ...)``.\n",
    "        \n",
    "        ...\n",
    "        ...\n",
    "        ...\n",
    "        \n",
    "        \n",
    "        Returns\n",
    "        -------\n",
    "        popt : array\n",
    "            Optimal values for the parameters so that the sum of the squared\n",
    "            residuals of ``f(xdata, *popt) - ydata`` is minimized.\n",
    "        pcov : 2-D array\n",
    "            The estimated covariance of popt. The diagonals provide the variance\n",
    "            of the parameter estimate. To compute one standard deviation errors\n",
    "            on the parameters use ``perr = np.sqrt(np.diag(pcov))``         \n",
    "\n",
    "       ...\n",
    "       ..."
   ]
  },
  {
   "cell_type": "code",
   "execution_count": 106,
   "metadata": {
    "execution": {
     "iopub.execute_input": "2022-02-24T12:30:08.749193Z",
     "iopub.status.busy": "2022-02-24T12:30:08.748981Z",
     "iopub.status.idle": "2022-02-24T12:30:08.860542Z",
     "shell.execute_reply": "2022-02-24T12:30:08.860097Z",
     "shell.execute_reply.started": "2022-02-24T12:30:08.749176Z"
    },
    "tags": []
   },
   "outputs": [
    {
     "data": {
      "image/png": "[encoded data removed]",
      "text/plain": [
       "<Figure size 576x432 with 1 Axes>"
      ]
     },
     "metadata": {
      "needs_background": "light"
     },
     "output_type": "display_data"
    }
   ],
   "source": [
    "import numpy as np\n",
    "from scipy.optimize import curve_fit\n",
    "import matplotlib.pyplot as plt\n",
    "plt.rcParams['figure.figsize'] = (8,6)\n",
    "plt.rcParams['font.size'] = 20\n",
    "\n",
    "data = np.genfromtxt('03-Computational_Linear_Algebra/bluegills_dataset.csv', delimiter=',')\n",
    "t = data[:,0]\n",
    "x = data[:,1]\n",
    "plt.scatter(t,x, color='red', s=10, alpha=0.4)\n",
    "plt.xlabel(\"t (yr)\")\n",
    "plt.ylabel(\"x (mm)\", rotation=0)\n",
    "\n",
    "params, conv = curve_fit(lambda t,a,b,c: a + b*t + c*t**2, t, x)\n",
    "fit_func = np.polynomial.polynomial.Polynomial(params)\n",
    "t_fit, x_fit = fit_func.linspace(n=100, domain=[tdata[0],tdata[-1]])\n",
    "plt.plot(t_fit, x_fit)\n",
    "plt.show()"
   ]
  }
 ],
 "metadata": {
  "colab": {
   "authorship_tag": "ABX9TyPvUQJHTvmxfAru1AmaNHCV",
   "collapsed_sections": [],
   "include_colab_link": true,
   "name": "Computational_Linear_Algebra_all.ipynb",
   "provenance": []
  },
  "kernelspec": {
   "display_name": "Python 3 (ipykernel)",
   "language": "python",
   "name": "python3"
  },
  "language_info": {
   "codemirror_mode": {
    "name": "ipython",
    "version": 3
   },
   "file_extension": ".py",
   "mimetype": "text/x-python",
   "name": "python",
   "nbconvert_exporter": "python",
   "pygments_lexer": "ipython3",
   "version": "3.8.8"
  }
 },
 "nbformat": 4,
 "nbformat_minor": 4
}
