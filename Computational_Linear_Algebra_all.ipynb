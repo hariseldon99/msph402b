{
  "nbformat": 4,
  "nbformat_minor": 0,
  "metadata": {
    "colab": {
      "name": "Computational_Linear_Algebra_all.ipynb",
      "provenance": [],
      "collapsed_sections": [],
      "authorship_tag": "ABX9TyP1hklRZ2yau82Z60zBEYo3",
      "include_colab_link": true
    },
    "kernelspec": {
      "name": "python3",
      "display_name": "Python 3"
    },
    "language_info": {
      "name": "python"
    }
  },
  "cells": [
    {
      "cell_type": "markdown",
      "metadata": {
        "id": "view-in-github",
        "colab_type": "text"
      },
      "source": [
        "<a href=\"https://colab.research.google.com/github/hariseldon99/msph402b/blob/main/Computational_Linear_Algebra_all.ipynb\" target=\"_parent\"><img src=\"https://colab.research.google.com/assets/colab-badge.svg\" alt=\"Open In Colab\"/></a>"
      ]
    },
    {
      "cell_type": "markdown",
      "source": [
        "All Example Codes for Computational Linear Algebra\n",
        "==================================================="
      ],
      "metadata": {
        "id": "VUW31D4ZhD-s"
      }
    },
    {
      "cell_type": "markdown",
      "source": [
        "**Examples for Gaussian Method**\n",
        "* From file gauss_method_ex.py"
      ],
      "metadata": {
        "id": "Xz3bgGKBhyUZ"
      }
    },
    {
      "cell_type": "code",
      "source": [
        ""
      ],
      "metadata": {
        "id": "8IBqxhyUh41c"
      },
      "execution_count": null,
      "outputs": []
    },
    {
      "cell_type": "markdown",
      "source": [
        "**Examples for Gauss-Seidel Method**\n",
        "* From file gauss_seidel_ex.py"
      ],
      "metadata": {
        "id": "pKHw6RLgharg"
      }
    },
    {
      "cell_type": "code",
      "execution_count": 34,
      "metadata": {
        "colab": {
          "base_uri": "https://localhost:8080/"
        },
        "id": "eOPIVufAomjR",
        "outputId": "ed1b22ad-51fb-4b69-af25-aa4620dcd41c"
      },
      "outputs": [
        {
          "output_type": "stream",
          "name": "stdout",
          "text": [
            "Defined!\n"
          ]
        }
      ],
      "source": [
        "import numpy as np\n",
        "\n",
        "def gauss_seidel(A, b, tolerance=1e-10, max_iterations=100000, verbose=False):\n",
        "    \"\"\"\n",
        "    Simple Function for the Gauss-Seidel Method for solving a system of linear equations\n",
        "    Returns a numpy array consisting of the solution x, where A . x = b  \n",
        "\n",
        "            Parameters:\n",
        "                    A (numpy array): A square matrix of coefficients\n",
        "                    b (numpy array): The RHS vector of the linear system\n",
        "\n",
        "            Returns:\n",
        "                    x (numpy array): Solution to the equation A . x = b \n",
        "    \"\"\"\n",
        "    x = np.zeros_like(b, dtype=np.double)\n",
        "    \n",
        "    if verbose:\n",
        "      print(\"Iteration\\t% soln: Relative err\")\n",
        "    #Iterate\n",
        "    for k in range(max_iterations):\n",
        "        \n",
        "        x_old  = x.copy()\n",
        "        \n",
        "        #Loop over rows\n",
        "        for i in range(A.shape[0]):\n",
        "            x[i] = (b[i] - np.dot(A[i,:i], x[:i]) - np.dot(A[i,(i+1):], x_old[(i+1):])) / A[i ,i]\n",
        "        \n",
        "        error = np.linalg.norm(x - x_old, ord=np.inf) / np.linalg.norm(x, ord=np.inf)\n",
        "        if verbose:\n",
        "          print(\"%lf\\t %1.4lf \" % (k, error * 100))\n",
        "        \n",
        "        #Stop condition \n",
        "        if error < tolerance:\n",
        "            break\n",
        "    if k == max_iterations -1:\n",
        "      raise Exception(\"Error: Maximum iterations exceeded\", k)\n",
        "    \n",
        "    return x\n",
        "\n",
        "def isDDM(m, n):\n",
        "  \"\"\"\n",
        "  Checks a numpy 2d square array for diagonal dominance\n",
        "  \"\"\"\n",
        " \n",
        "  # for each row\n",
        "  for i in range(0, n):   \n",
        "    # for each column, finding sum of each row sans the diagonal\n",
        "    sum = np.sum(m[i]) - np.abs(m[i,i])  \n",
        "    if (abs(m[i,i]) < sum) :\n",
        "        return False\n",
        " \n",
        "  return True\n",
        "\n",
        "print(\"Defined!\")"
      ]
    },
    {
      "cell_type": "code",
      "source": [
        "mat = np.array([[16, 3],\n",
        "                [7, -11]])\n",
        "\n",
        "rhs = np.array([11,\n",
        "                13])\n",
        "\n",
        "print(\"x =\", gauss_seidel(mat, rhs, verbose=True))"
      ],
      "metadata": {
        "colab": {
          "base_uri": "https://localhost:8080/"
        },
        "id": "hOdkNnh3iFOx",
        "outputId": "f45bd011-16a0-465e-f882-09cf712ff159"
      },
      "execution_count": 35,
      "outputs": [
        {
          "output_type": "stream",
          "name": "stdout",
          "text": [
            "Iteration\t% soln: Relative err\n",
            "0.000000\t 100.0000 \n",
            "1.000000\t 16.8742 \n",
            "2.000000\t 2.0548 \n",
            "3.000000\t 0.2446 \n",
            "4.000000\t 0.0292 \n",
            "5.000000\t 0.0035 \n",
            "6.000000\t 0.0004 \n",
            "7.000000\t 0.0000 \n",
            "8.000000\t 0.0000 \n",
            "9.000000\t 0.0000 \n",
            "10.000000\t 0.0000 \n",
            "11.000000\t 0.0000 \n",
            "12.000000\t 0.0000 \n",
            "x = [ 0.81218274 -0.66497462]\n"
          ]
        }
      ]
    },
    {
      "cell_type": "code",
      "source": [
        "mat = np.array([[25, 5, 1],\n",
        "                [64, 8, 1],\n",
        "                [144, 12, 1]])\n",
        "\n",
        "rhs = np.array([106.8,\n",
        "                177.2,\n",
        "                279.2])\n",
        "\n",
        "print(\"Is matrix diagonally dominant?\", isDDM(mat, 3))\n",
        "print(\"x =\", gauss_seidel(mat, rhs))"
      ],
      "metadata": {
        "colab": {
          "base_uri": "https://localhost:8080/",
          "height": 340
        },
        "id": "UGYTC3ERcgDL",
        "outputId": "d837b0b5-4a12-4dbf-9f54-cda3d13ec4e2"
      },
      "execution_count": 36,
      "outputs": [
        {
          "output_type": "stream",
          "name": "stdout",
          "text": [
            "Is matrix diagonally dominant? False\n"
          ]
        },
        {
          "output_type": "error",
          "ename": "Exception",
          "evalue": "ignored",
          "traceback": [
            "\u001b[0;31m---------------------------------------------------------------------------\u001b[0m",
            "\u001b[0;31mException\u001b[0m                                 Traceback (most recent call last)",
            "\u001b[0;32m<ipython-input-36-0f8aba3659a5>\u001b[0m in \u001b[0;36m<module>\u001b[0;34m()\u001b[0m\n\u001b[1;32m      8\u001b[0m \u001b[0;34m\u001b[0m\u001b[0m\n\u001b[1;32m      9\u001b[0m \u001b[0mprint\u001b[0m\u001b[0;34m(\u001b[0m\u001b[0;34m\"Is matrix diagonally dominant?\"\u001b[0m\u001b[0;34m,\u001b[0m \u001b[0misDDM\u001b[0m\u001b[0;34m(\u001b[0m\u001b[0mmat\u001b[0m\u001b[0;34m,\u001b[0m \u001b[0;36m3\u001b[0m\u001b[0;34m)\u001b[0m\u001b[0;34m)\u001b[0m\u001b[0;34m\u001b[0m\u001b[0;34m\u001b[0m\u001b[0m\n\u001b[0;32m---> 10\u001b[0;31m \u001b[0mprint\u001b[0m\u001b[0;34m(\u001b[0m\u001b[0;34m\"x =\"\u001b[0m\u001b[0;34m,\u001b[0m \u001b[0mgauss_seidel\u001b[0m\u001b[0;34m(\u001b[0m\u001b[0mmat\u001b[0m\u001b[0;34m,\u001b[0m \u001b[0mrhs\u001b[0m\u001b[0;34m)\u001b[0m\u001b[0;34m)\u001b[0m\u001b[0;34m\u001b[0m\u001b[0;34m\u001b[0m\u001b[0m\n\u001b[0m",
            "\u001b[0;32m<ipython-input-34-2bf275799c70>\u001b[0m in \u001b[0;36mgauss_seidel\u001b[0;34m(A, b, tolerance, max_iterations, verbose)\u001b[0m\n\u001b[1;32m     34\u001b[0m             \u001b[0;32mbreak\u001b[0m\u001b[0;34m\u001b[0m\u001b[0;34m\u001b[0m\u001b[0m\n\u001b[1;32m     35\u001b[0m     \u001b[0;32mif\u001b[0m \u001b[0mk\u001b[0m \u001b[0;34m==\u001b[0m \u001b[0mmax_iterations\u001b[0m \u001b[0;34m-\u001b[0m\u001b[0;36m1\u001b[0m\u001b[0;34m:\u001b[0m\u001b[0;34m\u001b[0m\u001b[0;34m\u001b[0m\u001b[0m\n\u001b[0;32m---> 36\u001b[0;31m       \u001b[0;32mraise\u001b[0m \u001b[0mException\u001b[0m\u001b[0;34m(\u001b[0m\u001b[0;34m\"Error: Maximum iterations exceeded\"\u001b[0m\u001b[0;34m,\u001b[0m \u001b[0mk\u001b[0m\u001b[0;34m)\u001b[0m\u001b[0;34m\u001b[0m\u001b[0;34m\u001b[0m\u001b[0m\n\u001b[0m\u001b[1;32m     37\u001b[0m \u001b[0;34m\u001b[0m\u001b[0m\n\u001b[1;32m     38\u001b[0m     \u001b[0;32mreturn\u001b[0m \u001b[0mx\u001b[0m\u001b[0;34m\u001b[0m\u001b[0;34m\u001b[0m\u001b[0m\n",
            "\u001b[0;31mException\u001b[0m: ('Error: Maximum iterations exceeded', 99999)"
          ]
        }
      ]
    },
    {
      "cell_type": "code",
      "source": [
        "mat = np.array([[12, 3, -5],\n",
        "                [1,  5,  3],\n",
        "                [3,  7, 13]])\n",
        "\n",
        "rhs = np.array([1,\n",
        "                28,\n",
        "                76])\n",
        "\n",
        "print(\"Is matrix diagonally dominant?\", isDDM(mat, 3))\n",
        "print(\"x =\", gauss_seidel(mat, rhs))"
      ],
      "metadata": {
        "colab": {
          "base_uri": "https://localhost:8080/"
        },
        "id": "280Jf6UYf9EF",
        "outputId": "51a414f6-67e8-4da6-ddfc-06860f9ed817"
      },
      "execution_count": 37,
      "outputs": [
        {
          "output_type": "stream",
          "name": "stdout",
          "text": [
            "Is matrix diagonally dominant? True\n",
            "x = [1. 3. 4.]\n"
          ]
        }
      ]
    },
    {
      "cell_type": "code",
      "source": [
        "mat = np.array([[1,  5,  3],\n",
        "                [12, 3, -5],\n",
        "                [3,  7, 13]])\n",
        "\n",
        "rhs = np.array([28,\n",
        "                1,\n",
        "                76])\n",
        "\n",
        "print(\"Is matrix diagonally dominant?\", isDDM(mat, 3))\n",
        "\n",
        "try:\n",
        "  print(\"x =\", gauss_seidel(mat, rhs))\n",
        "except Exception:\n",
        "  print(\"The algorithm failed to converge\")\n"
      ],
      "metadata": {
        "colab": {
          "base_uri": "https://localhost:8080/"
        },
        "id": "yUZANoi0iWT8",
        "outputId": "fdac5aeb-8ffe-4c11-b73c-b6f36da9133a"
      },
      "execution_count": 39,
      "outputs": [
        {
          "output_type": "stream",
          "name": "stdout",
          "text": [
            "Is matrix diagonally dominant? False\n"
          ]
        },
        {
          "output_type": "stream",
          "name": "stderr",
          "text": [
            "/usr/local/lib/python3.7/dist-packages/ipykernel_launcher.py:28: RuntimeWarning: invalid value encountered in double_scalars\n"
          ]
        },
        {
          "output_type": "stream",
          "name": "stdout",
          "text": [
            "The algorithm failed to converge\n"
          ]
        }
      ]
    }
  ]
}