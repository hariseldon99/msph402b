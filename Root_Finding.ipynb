{
 "cells": [
  {
   "cell_type": "markdown",
   "metadata": {
    "colab_type": "text",
    "id": "view-in-github"
   },
   "source": [
    "<a href=\"https://colab.research.google.com/github/hariseldon99/msph402b/blob/main/Root_Finding.ipynb\" target=\"_parent\"><img src=\"https://colab.research.google.com/assets/colab-badge.svg\" alt=\"Open In Colab\"/></a>"
   ]
  },
  {
   "cell_type": "markdown",
   "metadata": {
    "id": "VUW31D4ZhD-s"
   },
   "source": [
    "All Example Codes for Root Finding\n",
    "==================================================="
   ]
  },
  {
   "cell_type": "markdown",
   "metadata": {
    "id": "KE2-2IliLQQR"
   },
   "source": [
    "**Bisection Method**\n",
    "\n",
    "#### The Problem\n",
    "\n",
    "Find a solution to the equation\n",
    "\\begin{equation*}\n",
    "2x^3 -2x + 7 = 0.\n",
    "\\end{equation*}\n",
    "\n",
    "Given that there is a root in the bracket $[-2, -1]$"
   ]
  },
  {
   "cell_type": "code",
   "execution_count": 17,
   "metadata": {
    "colab": {
     "base_uri": "https://localhost:8080/"
    },
    "id": "8qUqm8kqLjP0",
    "outputId": "5fbf9de2-6fa5-4668-fac0-fb7bd72f7537"
   },
   "outputs": [
    {
     "name": "stdout",
     "output_type": "stream",
     "text": [
      "Root of equation after 39 bisections = -1.736525\n"
     ]
    }
   ],
   "source": [
    "import numpy as np\n",
    "from scipy.optimize import bisect\n",
    "\n",
    "root, output = bisect(lambda x: 2*x**3 - 2*x +7, -2,-1, full_output=True)\n",
    "print(\"Root of equation after %d bisections = %lf\" % (output.iterations, root))"
   ]
  },
  {
   "cell_type": "markdown",
   "metadata": {
    "id": "6IGBgnwNM0vo"
   },
   "source": [
    "**Newton-Raphson Method**\n",
    "\n",
    "#### The Problem\n",
    "Use the Newton-Raphson Method to approximate the cube root of $37$. The equation we use is\n",
    "\n",
    "\\begin{equation*}\n",
    "x^3 - 37 = 0.\n",
    "\\end{equation*}\n",
    "\n",
    "Given that there is a root near $x_0=5$. Use both the bisection and the Newton Raphson method and compare their speeds."
   ]
  },
  {
   "cell_type": "code",
   "execution_count": 3,
   "metadata": {
    "execution": {
     "iopub.execute_input": "2022-02-12T11:34:51.169457Z",
     "iopub.status.busy": "2022-02-12T11:34:51.168862Z",
     "iopub.status.idle": "2022-02-12T11:34:51.184633Z",
     "shell.execute_reply": "2022-02-12T11:34:51.182148Z",
     "shell.execute_reply.started": "2022-02-12T11:34:51.169389Z"
    },
    "tags": []
   },
   "outputs": [
    {
     "name": "stdout",
     "output_type": "stream",
     "text": [
      "Root of equation after 6 iterations = 3.332222\n"
     ]
    }
   ],
   "source": [
    "from scipy.optimize import newton\n",
    "\n",
    "x0 = 5\n",
    "\n",
    "root, output = newton(lambda x: x**3 - 37, x0, fprime=lambda x: 3 * x**2, full_output=True)\n",
    "print(\"Root of equation after %d iterations = %lf\" % (output.iterations, root))"
   ]
  },
  {
   "cell_type": "markdown",
   "metadata": {},
   "source": [
    "**Comparison of Bisection Method with Newton-Raphson Method**\n",
    "\n",
    "* From file: [bisection_nr_comp.py](04-Root_Finding/bisection_nr_comp.py)\n",
    "\n",
    "#### The Problem\n",
    "\n",
    "Compare the results of the problem above with the same equation solved using the bisection method.\n"
   ]
  },
  {
   "cell_type": "code",
   "execution_count": 166,
   "metadata": {
    "execution": {
     "iopub.execute_input": "2022-02-12T16:07:27.717212Z",
     "iopub.status.busy": "2022-02-12T16:07:27.717006Z",
     "iopub.status.idle": "2022-02-12T16:07:27.823990Z",
     "shell.execute_reply": "2022-02-12T16:07:27.823475Z",
     "shell.execute_reply.started": "2022-02-12T16:07:27.717196Z"
    },
    "tags": []
   },
   "outputs": [
    {
     "data": {
      "image/png": "[encoded data removed]",
      "text/plain": [
       "<Figure size 576x432 with 1 Axes>"
      ]
     },
     "metadata": {
      "needs_background": "light"
     },
     "output_type": "display_data"
    }
   ],
   "source": [
    "import numpy as np\n",
    "import matplotlib.pyplot as plt\n",
    "plt.rcParams['figure.figsize'] = (8,6)\n",
    "plt.rcParams['font.size'] = 20\n",
    "\n",
    "x = np.linspace(-5.5, 5.5, 1000)\n",
    "plt.plot(x, x**3 - 37)\n",
    "plt.axhline(y=0, color='black')\n",
    "plt.xlabel('x')\n",
    "plt.ylabel('f(x)')\n",
    "plt.show()"
   ]
  },
  {
   "cell_type": "code",
   "execution_count": 13,
   "metadata": {
    "execution": {
     "iopub.execute_input": "2022-02-23T07:47:04.166293Z",
     "iopub.status.busy": "2022-02-23T07:47:04.166110Z",
     "iopub.status.idle": "2022-02-23T07:47:32.917551Z",
     "shell.execute_reply": "2022-02-23T07:47:32.916980Z",
     "shell.execute_reply.started": "2022-02-23T07:47:04.166261Z"
    },
    "tags": []
   },
   "outputs": [
    {
     "name": "stdout",
     "output_type": "stream",
     "text": [
      "Bisection:\n",
      "5.9 µs ± 116 ns per loop (mean ± std. dev. of 7 runs, 100000 loops each)\n",
      "Root of equation after 29 bisections = 3.332221853\n",
      "\n",
      "Newton-Raphson:\n",
      "154 µs ± 2.89 µs per loop (mean ± std. dev. of 7 runs, 10000 loops each)\n",
      "Root of equation after 6 iterations = 3.332221852\n",
      "\n",
      "Newton-Raphson via recursion:\n",
      "141 µs ± 1.08 µs per loop (mean ± std. dev. of 7 runs, 10000 loops each)\n",
      "Root of equation after 6 iterations = 3.332221852\n"
     ]
    }
   ],
   "source": [
    "import numpy as np\n",
    "from scipy.optimize import bisect, newton\n",
    "\n",
    "def nr_recur(func, xn, fprime, itr=0, tol=1.48e-8, rtol=0.0, max_iter=1000):\n",
    "    '''Our own implementation of the\n",
    "        Newton Raphson Method by recursion'''\n",
    "\n",
    "    xnp1 = xn - (func(xn)/fprime(xn))    \n",
    "    itr += 1\n",
    "    \n",
    "    if itr >= max_iter:\n",
    "        msg = (\" Failed to converge after %d iterations,\\\n",
    "                    value is %s.\" % (itr, xnp1))\n",
    "        raise RuntimeError(msg)\n",
    "    elif np.isclose(xnp1, xn, rtol=rtol, atol=tol):\n",
    "        return (xnp1, itr)\n",
    "    else:\n",
    "        args = func, xnp1, fprime\n",
    "        kwargs = {'itr':itr, 'tol':tol, 'rtol':rtol, 'max_iter':max_iter}\n",
    "        return nr_recur(*args, **kwargs)\n",
    "    \n",
    "\n",
    "x0, x1 = 2.0, 5.0\n",
    "\n",
    "xtol=1e-8\n",
    "\n",
    "print(\"Bisection:\")\n",
    "%timeit  bisect(lambda x: x**3 - 37, x0,x1, xtol=xtol, full_output=True)\n",
    "root, output = bisect(lambda x: x**3 - 37, x0,x1, xtol=xtol, full_output=True)\n",
    "print(\"Root of equation after %d bisections = %1.9lf\\n\" % (output.iterations, root))\n",
    "\n",
    "print(\"Newton-Raphson:\")\n",
    "%timeit newton(lambda x: x**3 - 37, x1, fprime=lambda x: 3 * x**2, tol=xtol, full_output=True)\n",
    "root, output = newton(lambda x: x**3 - 37, x1, fprime=lambda x: 3 * x**2, tol=xtol, full_output=True)\n",
    "print(\"Root of equation after %d iterations = %1.9lf\\n\" % (output.iterations, root))\n",
    "\n",
    "print(\"Newton-Raphson via recursion:\")\n",
    "%timeit nr_recur(lambda x: x**3 - 37, x1, lambda x: 3 * x**2, tol=xtol)\n",
    "root, iters = nr_recur(lambda x: x**3 - 37, x1, lambda x: 3 * x**2, tol=xtol)\n",
    "print(\"Root of equation after %d iterations = %1.9lf\" % (iters, root))\n"
   ]
  },
  {
   "cell_type": "markdown",
   "metadata": {},
   "source": [
    "**Failure of Root-Finding Methods**\n",
    "\n",
    "### The Problem\n",
    "\n",
    "Use the bisection method to estimate a root of\n",
    "\n",
    "\\begin{equation*}\n",
    "f(x) \\equiv x^4-4x^3-6x^2-4x+1 = 0\n",
    "\\end{equation*}\n",
    "\n",
    "Plot the function in order to figure out why bisection fails. Note that the LHS can be simplified to $f(x) = (x-1)^4$. Thus, a bracket with the point $x=1$ in it will always enclose the root.\n",
    "\n",
    "Then, use the Newton-Raphson method to estimate a root of the function\n",
    "\\begin{equation*}\n",
    "f(x) = \\begin{cases}\n",
    "        \\sqrt{x} & x \\geq 0\\\\\n",
    "        -\\sqrt{-x} & x < 0\n",
    "        \\end{cases}\n",
    "\\end{equation*}\n",
    "\n",
    "Assume that the desired root is near $x=1$. Plot this function in order to figure out why the Newton-Raphson method fails."
   ]
  },
  {
   "cell_type": "code",
   "execution_count": 154,
   "metadata": {
    "execution": {
     "iopub.execute_input": "2022-02-12T16:02:21.665901Z",
     "iopub.status.busy": "2022-02-12T16:02:21.665706Z",
     "iopub.status.idle": "2022-02-12T16:02:21.676204Z",
     "shell.execute_reply": "2022-02-12T16:02:21.675519Z",
     "shell.execute_reply.started": "2022-02-12T16:02:21.665872Z"
    },
    "tags": []
   },
   "outputs": [
    {
     "ename": "ValueError",
     "evalue": "f(a) and f(b) must have different signs",
     "output_type": "error",
     "traceback": [
      "\u001b[0;31m---------------------------------------------------------------------------\u001b[0m",
      "\u001b[0;31mValueError\u001b[0m                                Traceback (most recent call last)",
      "\u001b[0;32m/tmp/ipykernel_63162/589047874.py\u001b[0m in \u001b[0;36m<module>\u001b[0;34m\u001b[0m\n\u001b[1;32m      4\u001b[0m \u001b[0mfunc\u001b[0m \u001b[0;34m=\u001b[0m \u001b[0mnp\u001b[0m\u001b[0;34m.\u001b[0m\u001b[0mpolynomial\u001b[0m\u001b[0;34m.\u001b[0m\u001b[0mPolynomial\u001b[0m\u001b[0;34m(\u001b[0m\u001b[0;34m[\u001b[0m\u001b[0;36m1\u001b[0m\u001b[0;34m,\u001b[0m \u001b[0;34m-\u001b[0m\u001b[0;36m4\u001b[0m\u001b[0;34m,\u001b[0m \u001b[0;36m6\u001b[0m\u001b[0;34m,\u001b[0m \u001b[0;34m-\u001b[0m\u001b[0;36m4\u001b[0m\u001b[0;34m,\u001b[0m \u001b[0;36m1\u001b[0m\u001b[0;34m]\u001b[0m\u001b[0;34m)\u001b[0m\u001b[0;34m\u001b[0m\u001b[0;34m\u001b[0m\u001b[0m\n\u001b[1;32m      5\u001b[0m \u001b[0;34m\u001b[0m\u001b[0m\n\u001b[0;32m----> 6\u001b[0;31m \u001b[0mroot\u001b[0m\u001b[0;34m,\u001b[0m \u001b[0moutput\u001b[0m \u001b[0;34m=\u001b[0m \u001b[0mbisect\u001b[0m\u001b[0;34m(\u001b[0m\u001b[0mfunc\u001b[0m\u001b[0;34m,\u001b[0m \u001b[0;36m0.999\u001b[0m\u001b[0;34m,\u001b[0m \u001b[0;36m1.001\u001b[0m\u001b[0;34m,\u001b[0m \u001b[0mfull_output\u001b[0m\u001b[0;34m=\u001b[0m\u001b[0;32mTrue\u001b[0m\u001b[0;34m)\u001b[0m\u001b[0;34m\u001b[0m\u001b[0;34m\u001b[0m\u001b[0m\n\u001b[0m\u001b[1;32m      7\u001b[0m \u001b[0mprint\u001b[0m\u001b[0;34m(\u001b[0m\u001b[0;34m\"Root of equation after %d bisections = %lf\"\u001b[0m \u001b[0;34m%\u001b[0m \u001b[0;34m(\u001b[0m\u001b[0moutput\u001b[0m\u001b[0;34m.\u001b[0m\u001b[0miterations\u001b[0m\u001b[0;34m,\u001b[0m \u001b[0mroot\u001b[0m\u001b[0;34m)\u001b[0m\u001b[0;34m)\u001b[0m\u001b[0;34m\u001b[0m\u001b[0;34m\u001b[0m\u001b[0m\n",
      "\u001b[0;32m~/anaconda3/lib/python3.8/site-packages/scipy/optimize/zeros.py\u001b[0m in \u001b[0;36mbisect\u001b[0;34m(f, a, b, args, xtol, rtol, maxiter, full_output, disp)\u001b[0m\n\u001b[1;32m    547\u001b[0m     \u001b[0;32mif\u001b[0m \u001b[0mrtol\u001b[0m \u001b[0;34m<\u001b[0m \u001b[0m_rtol\u001b[0m\u001b[0;34m:\u001b[0m\u001b[0;34m\u001b[0m\u001b[0;34m\u001b[0m\u001b[0m\n\u001b[1;32m    548\u001b[0m         \u001b[0;32mraise\u001b[0m \u001b[0mValueError\u001b[0m\u001b[0;34m(\u001b[0m\u001b[0;34m\"rtol too small (%g < %g)\"\u001b[0m \u001b[0;34m%\u001b[0m \u001b[0;34m(\u001b[0m\u001b[0mrtol\u001b[0m\u001b[0;34m,\u001b[0m \u001b[0m_rtol\u001b[0m\u001b[0;34m)\u001b[0m\u001b[0;34m)\u001b[0m\u001b[0;34m\u001b[0m\u001b[0;34m\u001b[0m\u001b[0m\n\u001b[0;32m--> 549\u001b[0;31m     \u001b[0mr\u001b[0m \u001b[0;34m=\u001b[0m \u001b[0m_zeros\u001b[0m\u001b[0;34m.\u001b[0m\u001b[0m_bisect\u001b[0m\u001b[0;34m(\u001b[0m\u001b[0mf\u001b[0m\u001b[0;34m,\u001b[0m \u001b[0ma\u001b[0m\u001b[0;34m,\u001b[0m \u001b[0mb\u001b[0m\u001b[0;34m,\u001b[0m \u001b[0mxtol\u001b[0m\u001b[0;34m,\u001b[0m \u001b[0mrtol\u001b[0m\u001b[0;34m,\u001b[0m \u001b[0mmaxiter\u001b[0m\u001b[0;34m,\u001b[0m \u001b[0margs\u001b[0m\u001b[0;34m,\u001b[0m \u001b[0mfull_output\u001b[0m\u001b[0;34m,\u001b[0m \u001b[0mdisp\u001b[0m\u001b[0;34m)\u001b[0m\u001b[0;34m\u001b[0m\u001b[0;34m\u001b[0m\u001b[0m\n\u001b[0m\u001b[1;32m    550\u001b[0m     \u001b[0;32mreturn\u001b[0m \u001b[0mresults_c\u001b[0m\u001b[0;34m(\u001b[0m\u001b[0mfull_output\u001b[0m\u001b[0;34m,\u001b[0m \u001b[0mr\u001b[0m\u001b[0;34m)\u001b[0m\u001b[0;34m\u001b[0m\u001b[0;34m\u001b[0m\u001b[0m\n\u001b[1;32m    551\u001b[0m \u001b[0;34m\u001b[0m\u001b[0m\n",
      "\u001b[0;31mValueError\u001b[0m: f(a) and f(b) must have different signs"
     ]
    }
   ],
   "source": [
    "import numpy as np\n",
    "from scipy.optimize import bisect\n",
    "\n",
    "func = np.polynomial.Polynomial([1, -4, 6, -4, 1])\n",
    "\n",
    "root, output = bisect(func, 0.999, 1.001, full_output=True)\n",
    "print(\"Root of equation after %d bisections = %lf\" % (output.iterations, root))"
   ]
  },
  {
   "cell_type": "code",
   "execution_count": 113,
   "metadata": {
    "execution": {
     "iopub.execute_input": "2022-02-12T13:53:31.795952Z",
     "iopub.status.busy": "2022-02-12T13:53:31.795763Z",
     "iopub.status.idle": "2022-02-12T13:53:31.906487Z",
     "shell.execute_reply": "2022-02-12T13:53:31.906081Z",
     "shell.execute_reply.started": "2022-02-12T13:53:31.795920Z"
    },
    "tags": []
   },
   "outputs": [
    {
     "data": {
      "image/png": "[encoded data removed]",
      "text/plain": [
       "<Figure size 576x432 with 1 Axes>"
      ]
     },
     "metadata": {
      "needs_background": "light"
     },
     "output_type": "display_data"
    }
   ],
   "source": [
    "import numpy as np\n",
    "import matplotlib.pyplot as plt\n",
    "plt.rcParams['figure.figsize'] = (8,6)\n",
    "plt.rcParams['font.size'] = 20\n",
    "\n",
    "func = np.polynomial.Polynomial([1, -4, 6, -4, 1])\n",
    "\n",
    "x = np.linspace(0.5, 1.5, 1000)\n",
    "plt.plot(x, func(x))\n",
    "plt.plot(x, np.zeros_like(x),'black')\n",
    "plt.xlabel('x')\n",
    "plt.ylabel('f(x)')\n",
    "plt.show()"
   ]
  },
  {
   "cell_type": "code",
   "execution_count": 160,
   "metadata": {
    "execution": {
     "iopub.execute_input": "2022-02-12T16:04:47.338081Z",
     "iopub.status.busy": "2022-02-12T16:04:47.337803Z",
     "iopub.status.idle": "2022-02-12T16:04:47.350626Z",
     "shell.execute_reply": "2022-02-12T16:04:47.349769Z",
     "shell.execute_reply.started": "2022-02-12T16:04:47.338051Z"
    },
    "tags": []
   },
   "outputs": [
    {
     "ename": "RuntimeError",
     "evalue": "Failed to converge after 50 iterations, value is 1.0.",
     "output_type": "error",
     "traceback": [
      "\u001b[0;31m---------------------------------------------------------------------------\u001b[0m",
      "\u001b[0;31mRuntimeError\u001b[0m                              Traceback (most recent call last)",
      "\u001b[0;32m/tmp/ipykernel_63162/3239032680.py\u001b[0m in \u001b[0;36m<module>\u001b[0;34m\u001b[0m\n\u001b[1;32m      9\u001b[0m     \u001b[0;32mreturn\u001b[0m \u001b[0;36m1\u001b[0m\u001b[0;34m/\u001b[0m\u001b[0;34m(\u001b[0m\u001b[0;36m2\u001b[0m\u001b[0;34m*\u001b[0m\u001b[0mnp\u001b[0m\u001b[0;34m.\u001b[0m\u001b[0msqrt\u001b[0m\u001b[0;34m(\u001b[0m\u001b[0mx\u001b[0m\u001b[0;34m)\u001b[0m\u001b[0;34m)\u001b[0m \u001b[0;32mif\u001b[0m \u001b[0mx\u001b[0m \u001b[0;34m>=\u001b[0m\u001b[0;36m0\u001b[0m \u001b[0;32melse\u001b[0m \u001b[0;36m1\u001b[0m\u001b[0;34m/\u001b[0m\u001b[0;34m(\u001b[0m\u001b[0;36m2\u001b[0m\u001b[0;34m*\u001b[0m\u001b[0mnp\u001b[0m\u001b[0;34m.\u001b[0m\u001b[0msqrt\u001b[0m\u001b[0;34m(\u001b[0m\u001b[0;34m-\u001b[0m\u001b[0mx\u001b[0m\u001b[0;34m)\u001b[0m\u001b[0;34m)\u001b[0m\u001b[0;34m\u001b[0m\u001b[0;34m\u001b[0m\u001b[0m\n\u001b[1;32m     10\u001b[0m \u001b[0;34m\u001b[0m\u001b[0m\n\u001b[0;32m---> 11\u001b[0;31m \u001b[0mroot\u001b[0m\u001b[0;34m,\u001b[0m \u001b[0moutput\u001b[0m \u001b[0;34m=\u001b[0m \u001b[0mnewton\u001b[0m\u001b[0;34m(\u001b[0m\u001b[0mfunc\u001b[0m\u001b[0;34m,\u001b[0m \u001b[0mx0\u001b[0m\u001b[0;34m,\u001b[0m \u001b[0mfprime\u001b[0m\u001b[0;34m=\u001b[0m\u001b[0mderiv\u001b[0m\u001b[0;34m,\u001b[0m \u001b[0mfull_output\u001b[0m\u001b[0;34m=\u001b[0m\u001b[0;32mTrue\u001b[0m\u001b[0;34m)\u001b[0m\u001b[0;34m\u001b[0m\u001b[0;34m\u001b[0m\u001b[0m\n\u001b[0m\u001b[1;32m     12\u001b[0m \u001b[0mprint\u001b[0m\u001b[0;34m(\u001b[0m\u001b[0;34m\"Root of equation after %d iterations = %lf\"\u001b[0m \u001b[0;34m%\u001b[0m \u001b[0;34m(\u001b[0m\u001b[0moutput\u001b[0m\u001b[0;34m.\u001b[0m\u001b[0miterations\u001b[0m\u001b[0;34m,\u001b[0m \u001b[0mroot\u001b[0m\u001b[0;34m)\u001b[0m\u001b[0;34m)\u001b[0m\u001b[0;34m\u001b[0m\u001b[0;34m\u001b[0m\u001b[0m\n",
      "\u001b[0;32m~/anaconda3/lib/python3.8/site-packages/scipy/optimize/zeros.py\u001b[0m in \u001b[0;36mnewton\u001b[0;34m(func, x0, fprime, args, tol, maxiter, fprime2, x1, rtol, full_output, disp)\u001b[0m\n\u001b[1;32m    359\u001b[0m         msg = (\"Failed to converge after %d iterations, value is %s.\"\n\u001b[1;32m    360\u001b[0m                % (itr + 1, p))\n\u001b[0;32m--> 361\u001b[0;31m         \u001b[0;32mraise\u001b[0m \u001b[0mRuntimeError\u001b[0m\u001b[0;34m(\u001b[0m\u001b[0mmsg\u001b[0m\u001b[0;34m)\u001b[0m\u001b[0;34m\u001b[0m\u001b[0;34m\u001b[0m\u001b[0m\n\u001b[0m\u001b[1;32m    362\u001b[0m \u001b[0;34m\u001b[0m\u001b[0m\n\u001b[1;32m    363\u001b[0m     \u001b[0;32mreturn\u001b[0m \u001b[0m_results_select\u001b[0m\u001b[0;34m(\u001b[0m\u001b[0mfull_output\u001b[0m\u001b[0;34m,\u001b[0m \u001b[0;34m(\u001b[0m\u001b[0mp\u001b[0m\u001b[0;34m,\u001b[0m \u001b[0mfuncalls\u001b[0m\u001b[0;34m,\u001b[0m \u001b[0mitr\u001b[0m \u001b[0;34m+\u001b[0m \u001b[0;36m1\u001b[0m\u001b[0;34m,\u001b[0m \u001b[0m_ECONVERR\u001b[0m\u001b[0;34m)\u001b[0m\u001b[0;34m)\u001b[0m\u001b[0;34m\u001b[0m\u001b[0;34m\u001b[0m\u001b[0m\n",
      "\u001b[0;31mRuntimeError\u001b[0m: Failed to converge after 50 iterations, value is 1.0."
     ]
    }
   ],
   "source": [
    "from scipy.optimize import newton\n",
    "\n",
    "x0 = 1\n",
    "\n",
    "def func(x):\n",
    "    return np.sqrt(x) if x >=0 else -np.sqrt(-x)\n",
    "\n",
    "def deriv(x):\n",
    "    return 1/(2*np.sqrt(x)) if x >=0 else 1/(2*np.sqrt(-x))\n",
    "\n",
    "root, output = newton(func, x0, fprime=deriv, full_output=True)\n",
    "print(\"Root of equation after %d iterations = %lf\" % (output.iterations, root))"
   ]
  },
  {
   "cell_type": "code",
   "execution_count": 164,
   "metadata": {
    "execution": {
     "iopub.execute_input": "2022-02-12T16:06:51.344299Z",
     "iopub.status.busy": "2022-02-12T16:06:51.344071Z",
     "iopub.status.idle": "2022-02-12T16:06:51.449403Z",
     "shell.execute_reply": "2022-02-12T16:06:51.449020Z",
     "shell.execute_reply.started": "2022-02-12T16:06:51.344281Z"
    },
    "tags": []
   },
   "outputs": [
    {
     "data": {
      "image/png": "[encoded data removed]",
      "text/plain": [
       "<Figure size 576x432 with 1 Axes>"
      ]
     },
     "metadata": {
      "needs_background": "light"
     },
     "output_type": "display_data"
    }
   ],
   "source": [
    "import numpy as np\n",
    "import matplotlib.pyplot as plt\n",
    "plt.rcParams['figure.figsize'] = (8,6)\n",
    "plt.rcParams['font.size'] = 20\n",
    "\n",
    "x0, y0 = 1.0, func(1.0)\n",
    "\n",
    "x = np.linspace(-1.1, 1.1, 1000)\n",
    "y = [func(xi) for xi in x]\n",
    "plt.plot(x, y)\n",
    "plt.axvline(x=x0, ymax=y0, color=\"black\", linestyle=\"--\")\n",
    "plt.axhline(y=0, color=\"black\", linestyle=\"-\")\n",
    "plt.xlabel('x')\n",
    "plt.ylabel('f(x)')\n",
    "plt.show()"
   ]
  },
  {
   "cell_type": "markdown",
   "metadata": {},
   "source": [
    "**Ridders' Method**\n",
    "\n",
    "* From file: [ridders_bisection_nr_comp.py](04-Root_Finding/ridders_bisection_nr_comp.py)\n",
    "\n",
    "### The Problem:\n",
    "\n",
    "Find the roots of the function given below by Ridders' method and compare the solution, as well as the computational effort, with the Bisection and Newton-Raphson method. Assume that the root lies in the bracket $x\\in[1.0, 1.25]$\n",
    "\n",
    "\n",
    "\\begin{equation*}\n",
    "x = \\frac{7}{5}\\tanh{x}\n",
    "\\end{equation*}"
   ]
  },
  {
   "cell_type": "code",
   "execution_count": 14,
   "metadata": {
    "execution": {
     "iopub.execute_input": "2022-02-23T07:51:16.391744Z",
     "iopub.status.busy": "2022-02-23T07:51:16.391492Z",
     "iopub.status.idle": "2022-02-23T07:51:35.320896Z",
     "shell.execute_reply": "2022-02-23T07:51:35.320346Z",
     "shell.execute_reply.started": "2022-02-23T07:51:16.391719Z"
    },
    "tags": []
   },
   "outputs": [
    {
     "name": "stdout",
     "output_type": "stream",
     "text": [
      "Bisection:\n",
      "21.5 µs ± 796 ns per loop (mean ± std. dev. of 7 runs, 10000 loops each)\n",
      "Root of equation after 25 bisections = 1.140339948\n",
      "\n",
      "Newton-Raphson:\n",
      "121 µs ± 507 ns per loop (mean ± std. dev. of 7 runs, 10000 loops each)\n",
      "Root of equation after 4 iterations = 1.140339944\n",
      "\n",
      "Ridders':\n",
      "9.01 µs ± 246 ns per loop (mean ± std. dev. of 7 runs, 100000 loops each)\n",
      "Root of equation after 4 iterations = 1.140339939\n"
     ]
    }
   ],
   "source": [
    "import numpy as np\n",
    "from scipy.optimize import bisect, newton, ridder\n",
    "\n",
    "x0, x1 = 1.0, 1.25\n",
    "\n",
    "def func(x):\n",
    "    return x - (7/5) * np.tanh(x)\n",
    "\n",
    "def deriv(x):\n",
    "    return 1 - (7/5) * (1 - np.tanh(x)**2)\n",
    "\n",
    "tol = 1e-8\n",
    "\n",
    "print(\"Bisection:\")\n",
    "%timeit  bisect(func, x0, x1, xtol=tol ,full_output=True)\n",
    "root, output = bisect(func, x0, x1, xtol=tol, full_output=True)\n",
    "print(\"Root of equation after %d bisections = %1.9lf\\n\" % (output.iterations, root))\n",
    "\n",
    "print(\"Newton-Raphson:\")\n",
    "%timeit newton(func, x1, fprime=deriv, tol=tol, full_output=True)\n",
    "root, output = newton(func, x1, fprime=deriv, full_output=True)\n",
    "print(\"Root of equation after %d iterations = %1.9lf\\n\" % (output.iterations, root))\n",
    "\n",
    "print(\"Ridders':\")\n",
    "%timeit ridder(func, x0, x1, xtol=tol, full_output=True)\n",
    "root, output = ridder(func, x0, x1, xtol=tol, full_output=True)\n",
    "print(\"Root of equation after %d iterations = %1.9lf\" % (output.iterations, root))"
   ]
  }
 ],
 "metadata": {
  "colab": {
   "collapsed_sections": [],
   "include_colab_link": true,
   "name": "Root_Finding.ipynb",
   "provenance": []
  },
  "kernelspec": {
   "display_name": "Python 3 (ipykernel)",
   "language": "python",
   "name": "python3"
  },
  "language_info": {
   "codemirror_mode": {
    "name": "ipython",
    "version": 3
   },
   "file_extension": ".py",
   "mimetype": "text/x-python",
   "name": "python",
   "nbconvert_exporter": "python",
   "pygments_lexer": "ipython3",
   "version": "3.8.8"
  }
 },
 "nbformat": 4,
 "nbformat_minor": 4
}
