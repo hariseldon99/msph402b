{
  "cells": [
    {
      "cell_type": "markdown",
      "metadata": {
        "id": "view-in-github",
        "colab_type": "text"
      },
      "source": [
        "<a href=\"https://colab.research.google.com/github/hariseldon99/msph402b/blob/main/Root_Finding.ipynb\" target=\"_parent\"><img src=\"https://colab.research.google.com/assets/colab-badge.svg\" alt=\"Open In Colab\"/></a>"
      ]
    },
    {
      "cell_type": "markdown",
      "metadata": {
        "id": "VUW31D4ZhD-s"
      },
      "source": [
        "All Example Codes for Root Finding\n",
        "==================================================="
      ]
    },
    {
      "cell_type": "markdown",
      "source": [
        "**Bisection Method**\n",
        "\n",
        "#### The Problem\n",
        "\n",
        "Find a solution to the equation\n",
        "\\begin{equation*}\n",
        "2x^3 -2x + 7 = 0.\n",
        "\\end{equation*}\n",
        "\n",
        "Given that there is a root in the bracket $[-2, -1]$"
      ],
      "metadata": {
        "id": "KE2-2IliLQQR"
      }
    },
    {
      "cell_type": "code",
      "source": [
        "import numpy as np\n",
        "from scipy.optimize import bisect\n",
        "\n",
        "\n",
        "root, output = bisect(lambda x: 2*x**3 - 2*x +7, -2,-1, full_output=True)\n",
        "print(\"Root of equation after %d bisections = %lf\" % (output.iterations, root))"
      ],
      "metadata": {
        "id": "8qUqm8kqLjP0",
        "outputId": "4c4a84d3-310f-4034-d830-9d1956f97be1",
        "colab": {
          "base_uri": "https://localhost:8080/"
        }
      },
      "execution_count": 16,
      "outputs": [
        {
          "output_type": "stream",
          "name": "stdout",
          "text": [
            "Root of equation after 39 bisections = -1.736525\n"
          ]
        }
      ]
    },
    {
      "cell_type": "code",
      "source": [
        ""
      ],
      "metadata": {
        "id": "6IGBgnwNM0vo"
      },
      "execution_count": null,
      "outputs": []
    }
  ],
  "metadata": {
    "colab": {
      "collapsed_sections": [],
      "name": "Root_Finding.ipynb",
      "provenance": [],
      "include_colab_link": true
    },
    "kernelspec": {
      "display_name": "Python 3 (ipykernel)",
      "language": "python",
      "name": "python3"
    },
    "language_info": {
      "codemirror_mode": {
        "name": "ipython",
        "version": 3
      },
      "file_extension": ".py",
      "mimetype": "text/x-python",
      "name": "python",
      "nbconvert_exporter": "python",
      "pygments_lexer": "ipython3",
      "version": "3.8.8"
    }
  },
  "nbformat": 4,
  "nbformat_minor": 0
}
