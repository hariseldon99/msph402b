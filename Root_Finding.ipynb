{
  "cells": [
    {
      "cell_type": "markdown",
      "metadata": {
        "id": "view-in-github",
        "colab_type": "text"
      },
      "source": [
        "<a href=\"https://colab.research.google.com/github/hariseldon99/msph402b/blob/main/Root_Finding.ipynb\" target=\"_parent\"><img src=\"https://colab.research.google.com/assets/colab-badge.svg\" alt=\"Open In Colab\"/></a>"
      ]
    },
    {
      "cell_type": "markdown",
      "metadata": {
        "id": "VUW31D4ZhD-s"
      },
      "source": [
        "All Example Codes for Root Finding\n",
        "==================================================="
      ]
    },
    {
      "cell_type": "markdown",
      "source": [
        "**Bisection Method**\n",
        "\n",
        "#### The Problem\n",
        "\n",
        "Find a solution to the equation\n",
        "\\begin{equation*}\n",
        "2x^3 -2x + 7 = 0.\n",
        "\\end{equation*}\n",
        "\n",
        "Given that there is a root in the bracket $[-2, -1]$"
      ],
      "metadata": {
        "id": "KE2-2IliLQQR"
      }
    },
    {
      "cell_type": "code",
      "source": [
        "import numpy as np\n",
        "\n",
        "def bisection(f,bracket,Nmax = 1000):\n",
        "    '''Approximate solution of f(x)=0 on bracket by bisection method.\n",
        "\n",
        "    Parameters\n",
        "    ----------\n",
        "    f : function\n",
        "        The function for which we are trying to approximate a solution f(x)=0.\n",
        "    bracket : tuple. The interval in which to search for a solution as a tuple (a,b). The \n",
        "        function returns None if f(a)*f(b) >= 0 since a solution is not guaranteed.\n",
        "    N : (positive) integer. The number of iterations to implement.\n",
        "\n",
        "    Returns\n",
        "    -------\n",
        "    (x_N, x_{N+1}) : tuple\n",
        "        The edges of the Nth interval computed by the bisection method. The\n",
        "        initial interval [a_0,b_0] is given by [a,b]. If bisection fails, then\n",
        "        returns None.\n",
        "    '''\n",
        "    a, b = bracket\n",
        "    if f(a)*f(b) >= 0:\n",
        "        print(\"Bisection method fails.\")\n",
        "        return None\n",
        "    a_n, b_n = bracket\n",
        "    for n in range(1,Nmax+1):\n",
        "        m_n = (a_n + b_n)/2\n",
        "        f_m_n = f(m_n)\n",
        "        if f(a_n)*f_m_n < 0:\n",
        "            b_n = m_n\n",
        "        elif f(b_n)*f_m_n < 0:\n",
        "            a_n = m_n\n",
        "        elif f_m_n == 0:\n",
        "            print(\"Found exact solution after %d bisections.\" % (n,))\n",
        "            return m_n\n",
        "        else:\n",
        "            print(\"Bisection method fails.\")\n",
        "            return None\n",
        "    return (a_n, b_n)\n",
        "\n",
        "\n",
        "n = 10\n",
        "a,b = bisection(lambda x: 2*x**3 - 2*x +7, (-2,-1), Nmax=n)\n",
        "\n",
        "print(\"After %d bisections, root is approximately %1.5lf +/- %1.5lf\" % (n, (a+b)/2, np.abs(a-b)/2 ))\n",
        "\n",
        "root = bisection(lambda x: 2*x**3 - 2*x +7, (-2,-1))\n",
        "print(root)"
      ],
      "metadata": {
        "id": "8qUqm8kqLjP0",
        "outputId": "2fa9ae68-0f15-43e5-9fd6-2e1fc9bb71a0",
        "colab": {
          "base_uri": "https://localhost:8080/"
        }
      },
      "execution_count": 10,
      "outputs": [
        {
          "output_type": "stream",
          "name": "stdout",
          "text": [
            "After 10 bisections, root is approximately -1.73682 +/- 0.00049\n",
            "Found exact solution after 52 bisections.\n",
            "-1.7365250916168533\n"
          ]
        }
      ]
    },
    {
      "cell_type": "code",
      "source": [
        ""
      ],
      "metadata": {
        "id": "6IGBgnwNM0vo"
      },
      "execution_count": null,
      "outputs": []
    }
  ],
  "metadata": {
    "colab": {
      "collapsed_sections": [],
      "name": "Root_Finding.ipynb",
      "provenance": [],
      "include_colab_link": true
    },
    "kernelspec": {
      "display_name": "Python 3 (ipykernel)",
      "language": "python",
      "name": "python3"
    },
    "language_info": {
      "codemirror_mode": {
        "name": "ipython",
        "version": 3
      },
      "file_extension": ".py",
      "mimetype": "text/x-python",
      "name": "python",
      "nbconvert_exporter": "python",
      "pygments_lexer": "ipython3",
      "version": "3.8.8"
    }
  },
  "nbformat": 4,
  "nbformat_minor": 0
}
