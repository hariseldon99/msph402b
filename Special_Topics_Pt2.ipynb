{
 "cells": [
  {
   "cell_type": "markdown",
   "id": "dbf4979b",
   "metadata": {
    "colab_type": "text",
    "id": "view-in-github"
   },
   "source": [
    "<a href=\"https://colab.research.google.com/github/hariseldon99/msph402b/blob/main/Special_Topics.ipynb\" target=\"_parent\"><img src=\"https://colab.research.google.com/assets/colab-badge.svg\" alt=\"Open In Colab\"/></a>"
   ]
  },
  {
   "cell_type": "markdown",
   "id": "d5462bab-8aca-4443-8609-7d0f88076028",
   "metadata": {
    "id": "d5462bab-8aca-4443-8609-7d0f88076028"
   },
   "source": [
    "### Special Topics - Part 2\n",
    "\n",
    "Introduction to QuTiP - The Quantum Toolbox in Python\n",
    "====================================="
   ]
  },
  {
   "cell_type": "markdown",
   "id": "7733c2b6-bcd5-4356-af2d-4be44f7b9640",
   "metadata": {
    "id": "7733c2b6-bcd5-4356-af2d-4be44f7b9640"
   },
   "source": [
    "QuTiP is a python package for calculations and numerical simulations of quantum systems.\n",
    "\n",
    "It includes facilities for representing and doing calculations with quantum objects such state vectors (wavefunctions), as bras/kets/density matrices, quantum operators of single and composite systems, and superoperators (useful for defining master equations).\n",
    "\n",
    "It also includes solvers for a time-evolution of quantum systems, according to: Schrodinger equation, von Neuman equation, master equations, Floquet formalism, Monte-Carlo quantum trajectors, experimental implementations of the stochastic Schrodinger/master equations.\n",
    "\n",
    "For more information see the project web site at https://qutip.org/, and the documentation at https://qutip.org/docs/latest/index.html. Follow the instructions there in order to download and install QuTiP.\n",
    "\n",
    "\n"
   ]
  },
  {
   "cell_type": "markdown",
   "id": "5a79a1c4-a596-4983-933c-a0106d0f0681",
   "metadata": {
    "id": "5a79a1c4-a596-4983-933c-a0106d0f0681"
   },
   "source": [
    "To use QuTiP in a Python program, first inlude the `qutip` module:"
   ]
  },
  {
   "cell_type": "code",
   "execution_count": null,
   "id": "2ce819de-b7c7-4e88-b87a-d6b072b8dd48",
   "metadata": {
    "execution": {
     "iopub.execute_input": "2022-02-26T16:02:00.335281Z",
     "iopub.status.busy": "2022-02-26T16:02:00.335056Z",
     "iopub.status.idle": "2022-02-26T16:02:00.338742Z",
     "shell.execute_reply": "2022-02-26T16:02:00.338054Z",
     "shell.execute_reply.started": "2022-02-26T16:02:00.335260Z"
    },
    "id": "2ce819de-b7c7-4e88-b87a-d6b072b8dd48",
    "tags": []
   },
   "outputs": [],
   "source": [
    "import numpy as np\n",
    "from qutip import *"
   ]
  },
  {
   "cell_type": "markdown",
   "id": "bebcb512-3bc9-44be-a245-9f027486776e",
   "metadata": {
    "execution": {
     "iopub.execute_input": "2022-02-26T12:28:27.403394Z",
     "iopub.status.busy": "2022-02-26T12:28:27.402845Z",
     "iopub.status.idle": "2022-02-26T12:28:27.414176Z",
     "shell.execute_reply": "2022-02-26T12:28:27.411992Z",
     "shell.execute_reply.started": "2022-02-26T12:28:27.403329Z"
    },
    "id": "bebcb512-3bc9-44be-a245-9f027486776e"
   },
   "source": [
    "### Creating and inspecting quantum objects\n",
    "\n",
    "We can create a new quantum object using the `Qobj` class constructor, like this:"
   ]
  },
  {
   "cell_type": "code",
   "execution_count": null,
   "id": "486430ad-44fd-4aaf-869e-5c6d6de76ec6",
   "metadata": {
    "execution": {
     "iopub.execute_input": "2022-02-26T15:36:14.335535Z",
     "iopub.status.busy": "2022-02-26T15:36:14.335329Z",
     "iopub.status.idle": "2022-02-26T15:36:14.342196Z",
     "shell.execute_reply": "2022-02-26T15:36:14.341442Z",
     "shell.execute_reply.started": "2022-02-26T15:36:14.335519Z"
    },
    "id": "486430ad-44fd-4aaf-869e-5c6d6de76ec6",
    "outputId": "729327f8-c377-4657-d57b-80fd607ecbb3",
    "tags": []
   },
   "outputs": [
    {
     "data": {
      "text/latex": [
       "Quantum object: dims = [[2], [1]], shape = (2, 1), type = ket\\begin{equation*}\\left(\\begin{array}{*{11}c}1.0\\\\0.0\\\\\\end{array}\\right)\\end{equation*}"
      ],
      "text/plain": [
       "Quantum object: dims = [[2], [1]], shape = (2, 1), type = ket\n",
       "Qobj data =\n",
       "[[1.]\n",
       " [0.]]"
      ]
     },
     "execution_count": 2,
     "metadata": {},
     "output_type": "execute_result"
    }
   ],
   "source": [
    "q = Qobj([[1], [0]])\n",
    "\n",
    "q"
   ]
  },
  {
   "cell_type": "markdown",
   "id": "0638302d-1912-441a-84c2-35618dbb53fa",
   "metadata": {
    "id": "0638302d-1912-441a-84c2-35618dbb53fa"
   },
   "source": [
    "Here we passed python list as an argument to the class constructor. The data in this list is used to construct the matrix representation of the quantum objects, and the other properties of the quantum object is by default computed from the same data.\n",
    "\n",
    "We can inspect the properties of a `Qobj` instance using the following class method:"
   ]
  },
  {
   "cell_type": "code",
   "execution_count": null,
   "id": "65888ff6-854d-4090-b9eb-f5af3d79052c",
   "metadata": {
    "execution": {
     "iopub.execute_input": "2022-02-26T15:36:17.449757Z",
     "iopub.status.busy": "2022-02-26T15:36:17.449559Z",
     "iopub.status.idle": "2022-02-26T15:36:17.453905Z",
     "shell.execute_reply": "2022-02-26T15:36:17.453322Z",
     "shell.execute_reply.started": "2022-02-26T15:36:17.449727Z"
    },
    "id": "65888ff6-854d-4090-b9eb-f5af3d79052c",
    "outputId": "a0312646-67dc-4806-8227-175d2a55bb2a",
    "tags": []
   },
   "outputs": [
    {
     "data": {
      "text/plain": [
       "[[2], [1]]"
      ]
     },
     "execution_count": 3,
     "metadata": {},
     "output_type": "execute_result"
    }
   ],
   "source": [
    "# the dimension, or composite Hilbert state space structure\n",
    "q.dims"
   ]
  },
  {
   "cell_type": "code",
   "execution_count": null,
   "id": "34b62533-3aae-4aba-9d8a-10d2b8041117",
   "metadata": {
    "execution": {
     "iopub.execute_input": "2022-02-26T15:36:19.491612Z",
     "iopub.status.busy": "2022-02-26T15:36:19.491297Z",
     "iopub.status.idle": "2022-02-26T15:36:19.496249Z",
     "shell.execute_reply": "2022-02-26T15:36:19.495694Z",
     "shell.execute_reply.started": "2022-02-26T15:36:19.491586Z"
    },
    "id": "34b62533-3aae-4aba-9d8a-10d2b8041117",
    "outputId": "75424160-45eb-4f0f-952c-32054c25b69e",
    "tags": []
   },
   "outputs": [
    {
     "data": {
      "text/plain": [
       "array([[1.+0.j],\n",
       "       [0.+0.j]])"
      ]
     },
     "execution_count": 4,
     "metadata": {},
     "output_type": "execute_result"
    }
   ],
   "source": [
    "# get the dense matrix representation\n",
    "q.full()"
   ]
  },
  {
   "cell_type": "code",
   "execution_count": null,
   "id": "49d36442-8b23-4a63-b22f-22fbb3ec20d2",
   "metadata": {
    "execution": {
     "iopub.execute_input": "2022-02-26T15:36:21.673179Z",
     "iopub.status.busy": "2022-02-26T15:36:21.673001Z",
     "iopub.status.idle": "2022-02-26T15:36:21.677103Z",
     "shell.execute_reply": "2022-02-26T15:36:21.676667Z",
     "shell.execute_reply.started": "2022-02-26T15:36:21.673151Z"
    },
    "id": "49d36442-8b23-4a63-b22f-22fbb3ec20d2",
    "outputId": "dcd606f6-5aee-48e6-9dde-484a46dc3ffd",
    "tags": []
   },
   "outputs": [
    {
     "data": {
      "text/plain": [
       "(False, 'ket')"
      ]
     },
     "execution_count": 5,
     "metadata": {},
     "output_type": "execute_result"
    }
   ],
   "source": [
    "# some additional properties\n",
    "q.isherm, q.type"
   ]
  },
  {
   "cell_type": "markdown",
   "id": "f8d323e8-d731-4fb5-b88b-04ce4920f971",
   "metadata": {
    "id": "f8d323e8-d731-4fb5-b88b-04ce4920f971"
   },
   "source": [
    "### Using `Qobj` instances for calculations\n",
    "\n",
    "With `Qobj` instances we can do arithmetic and apply a number of different operations using class methods:"
   ]
  },
  {
   "cell_type": "code",
   "execution_count": null,
   "id": "c86bde73-0661-41f9-9384-56ea2858e3f4",
   "metadata": {
    "execution": {
     "iopub.execute_input": "2022-02-26T15:36:45.103555Z",
     "iopub.status.busy": "2022-02-26T15:36:45.103345Z",
     "iopub.status.idle": "2022-02-26T15:36:45.108336Z",
     "shell.execute_reply": "2022-02-26T15:36:45.107635Z",
     "shell.execute_reply.started": "2022-02-26T15:36:45.103539Z"
    },
    "id": "c86bde73-0661-41f9-9384-56ea2858e3f4",
    "outputId": "c439974d-f900-45f7-a890-8cd6cf1e0ac4"
   },
   "outputs": [
    {
     "data": {
      "text/latex": [
       "Quantum object: dims = [[2], [2]], shape = (2, 2), type = oper, isherm = True\\begin{equation*}\\left(\\begin{array}{*{11}c}0.0 & -1.0j\\\\1.0j & 0.0\\\\\\end{array}\\right)\\end{equation*}"
      ],
      "text/plain": [
       "Quantum object: dims = [[2], [2]], shape = (2, 2), type = oper, isherm = True\n",
       "Qobj data =\n",
       "[[0.+0.j 0.-1.j]\n",
       " [0.+1.j 0.+0.j]]"
      ]
     },
     "execution_count": 6,
     "metadata": {},
     "output_type": "execute_result"
    }
   ],
   "source": [
    "sy = Qobj([[0,-1j], [1j,0]])  # the sigma-y Pauli operator\n",
    "\n",
    "sy"
   ]
  },
  {
   "cell_type": "code",
   "execution_count": null,
   "id": "6313f6c9-c0d7-456e-a32f-80a6b3928410",
   "metadata": {
    "execution": {
     "iopub.execute_input": "2022-02-26T15:37:11.158384Z",
     "iopub.status.busy": "2022-02-26T15:37:11.158202Z",
     "iopub.status.idle": "2022-02-26T15:37:11.163259Z",
     "shell.execute_reply": "2022-02-26T15:37:11.162696Z",
     "shell.execute_reply.started": "2022-02-26T15:37:11.158353Z"
    },
    "id": "6313f6c9-c0d7-456e-a32f-80a6b3928410",
    "outputId": "bd3547da-0b9a-4706-dab8-5e4213d80669"
   },
   "outputs": [
    {
     "data": {
      "text/latex": [
       "Quantum object: dims = [[2], [2]], shape = (2, 2), type = oper, isherm = True\\begin{equation*}\\left(\\begin{array}{*{11}c}1.0 & 0.0\\\\0.0 & -1.0\\\\\\end{array}\\right)\\end{equation*}"
      ],
      "text/plain": [
       "Quantum object: dims = [[2], [2]], shape = (2, 2), type = oper, isherm = True\n",
       "Qobj data =\n",
       "[[ 1.  0.]\n",
       " [ 0. -1.]]"
      ]
     },
     "execution_count": 7,
     "metadata": {},
     "output_type": "execute_result"
    }
   ],
   "source": [
    "sz = Qobj([[1,0], [0,-1]]) # the sigma-z Pauli operator\n",
    "\n",
    "sz"
   ]
  },
  {
   "cell_type": "code",
   "execution_count": null,
   "id": "48f5b312-5904-4df4-8578-bc3cc0ea3914",
   "metadata": {
    "execution": {
     "iopub.execute_input": "2022-02-26T15:37:42.304141Z",
     "iopub.status.busy": "2022-02-26T15:37:42.303394Z",
     "iopub.status.idle": "2022-02-26T15:37:42.309061Z",
     "shell.execute_reply": "2022-02-26T15:37:42.308599Z",
     "shell.execute_reply.started": "2022-02-26T15:37:42.304121Z"
    },
    "id": "48f5b312-5904-4df4-8578-bc3cc0ea3914",
    "outputId": "4e5e2411-a4ed-4214-9764-95b3042bb7c7",
    "tags": []
   },
   "outputs": [
    {
     "name": "stdout",
     "output_type": "stream",
     "text": [
      "Two-Level Hamiltonian (qubit) = \n",
      "\n"
     ]
    },
    {
     "data": {
      "text/latex": [
       "Quantum object: dims = [[2], [2]], shape = (2, 2), type = oper, isherm = True\\begin{equation*}\\left(\\begin{array}{*{11}c}1.0 & -0.100j\\\\0.100j & -1.0\\\\\\end{array}\\right)\\end{equation*}"
      ],
      "text/plain": [
       "Quantum object: dims = [[2], [2]], shape = (2, 2), type = oper, isherm = True\n",
       "Qobj data =\n",
       "[[ 1.+0.j   0.-0.1j]\n",
       " [ 0.+0.1j -1.+0.j ]]"
      ]
     },
     "execution_count": 9,
     "metadata": {},
     "output_type": "execute_result"
    }
   ],
   "source": [
    "# some arithmetic with quantum objects\n",
    "\n",
    "H = 1.0 * sz + 0.1 * sy\n",
    "\n",
    "print(\"Two-Level Hamiltonian (qubit) = \\n\")\n",
    "H"
   ]
  },
  {
   "cell_type": "code",
   "execution_count": null,
   "id": "eb1bb558-267c-4e78-b684-bfd9958b1311",
   "metadata": {
    "execution": {
     "iopub.execute_input": "2022-02-26T18:54:22.352199Z",
     "iopub.status.busy": "2022-02-26T18:54:22.352014Z",
     "iopub.status.idle": "2022-02-26T18:54:22.356387Z",
     "shell.execute_reply": "2022-02-26T18:54:22.355798Z",
     "shell.execute_reply.started": "2022-02-26T18:54:22.352168Z"
    },
    "id": "eb1bb558-267c-4e78-b684-bfd9958b1311",
    "outputId": "d550b178-613f-41b1-d55a-b788f4d8150c"
   },
   "outputs": [
    {
     "data": {
      "text/plain": [
       "array([[0.+0.j, 1.+0.j],\n",
       "       [1.+0.j, 0.+0.j]])"
      ]
     },
     "execution_count": 120,
     "metadata": {},
     "output_type": "execute_result"
    }
   ],
   "source": [
    "# The raw data of H can be extracted and put into a numpy array as follows\n",
    "H.full()"
   ]
  },
  {
   "cell_type": "code",
   "execution_count": null,
   "id": "eb0d91d0-2f98-4728-9425-16bd602a8961",
   "metadata": {
    "execution": {
     "iopub.execute_input": "2022-02-26T18:54:54.513819Z",
     "iopub.status.busy": "2022-02-26T18:54:54.513561Z",
     "iopub.status.idle": "2022-02-26T18:54:54.519118Z",
     "shell.execute_reply": "2022-02-26T18:54:54.518430Z",
     "shell.execute_reply.started": "2022-02-26T18:54:54.513775Z"
    },
    "id": "eb0d91d0-2f98-4728-9425-16bd602a8961",
    "outputId": "32bc1015-886a-41c4-acd6-2cd9fc7f824d",
    "tags": []
   },
   "outputs": [
    {
     "data": {
      "text/latex": [
       "Quantum object: dims = [[2], [2]], shape = (2, 2), type = oper, isherm = True\\begin{equation*}\\left(\\begin{array}{*{11}c}0.0 & -1.0j\\\\1.0j & 0.0\\\\\\end{array}\\right)\\end{equation*}"
      ],
      "text/plain": [
       "Quantum object: dims = [[2], [2]], shape = (2, 2), type = oper, isherm = True\n",
       "Qobj data =\n",
       "[[0.+0.j 0.-1.j]\n",
       " [0.+1.j 0.+0.j]]"
      ]
     },
     "execution_count": 122,
     "metadata": {},
     "output_type": "execute_result"
    }
   ],
   "source": [
    "# The hermitian conjugate\n",
    "sy.dag()"
   ]
  },
  {
   "cell_type": "code",
   "execution_count": null,
   "id": "5d92115e-47f3-44b7-90b4-7f20b11902fa",
   "metadata": {
    "execution": {
     "iopub.execute_input": "2022-02-26T15:38:00.628838Z",
     "iopub.status.busy": "2022-02-26T15:38:00.628675Z",
     "iopub.status.idle": "2022-02-26T15:38:00.632766Z",
     "shell.execute_reply": "2022-02-26T15:38:00.632248Z",
     "shell.execute_reply.started": "2022-02-26T15:38:00.628823Z"
    },
    "id": "5d92115e-47f3-44b7-90b4-7f20b11902fa",
    "outputId": "9dba399e-11b4-4bd0-9f32-6f927b8f3eb4"
   },
   "outputs": [
    {
     "data": {
      "text/plain": [
       "0.0"
      ]
     },
     "execution_count": 11,
     "metadata": {},
     "output_type": "execute_result"
    }
   ],
   "source": [
    "# The trace\n",
    "H.tr()"
   ]
  },
  {
   "cell_type": "code",
   "execution_count": null,
   "id": "f93a579d-77ca-4d92-a4bf-746a07839686",
   "metadata": {
    "execution": {
     "iopub.execute_input": "2022-02-26T18:54:46.825740Z",
     "iopub.status.busy": "2022-02-26T18:54:46.825001Z",
     "iopub.status.idle": "2022-02-26T18:54:46.829944Z",
     "shell.execute_reply": "2022-02-26T18:54:46.829353Z",
     "shell.execute_reply.started": "2022-02-26T18:54:46.825713Z"
    },
    "id": "f93a579d-77ca-4d92-a4bf-746a07839686",
    "outputId": "38a56122-8cff-4907-aa14-034882ae55a4",
    "tags": []
   },
   "outputs": [
    {
     "data": {
      "text/plain": [
       "array([-1.,  1.])"
      ]
     },
     "execution_count": 121,
     "metadata": {},
     "output_type": "execute_result"
    }
   ],
   "source": [
    "# Eigen energies\n",
    "H.eigenenergies()"
   ]
  },
  {
   "cell_type": "markdown",
   "id": "09b31fb7-61fb-47f9-a59e-5e029215030e",
   "metadata": {
    "id": "09b31fb7-61fb-47f9-a59e-5e029215030e"
   },
   "source": [
    "## States and operators\n",
    "\n",
    "Normally we do not need to create `Qobj` instances from stratch, using its constructor and passing its matrix representation as argument. Instead we can use functions in QuTiP that generates common states and operators for us. Here are some examples of built-in state functions. These obtain matrix representations of states and observables in the so-called \"*Bosonic Occupation Number Representation*\", which is basically the basis given by\n",
    "\n",
    "\\begin{equation*}\n",
    "|n_1, n_2, n_3, \\dots n_N\\rangle.\n",
    "\\end{equation*}\n",
    "\n",
    "In this state, $n_i$ identical bosons populate state $i$, and there are $N$ single particle states in total.\n",
    "### State vectors"
   ]
  },
  {
   "cell_type": "code",
   "execution_count": null,
   "id": "c8a71734-f6ff-4d2c-9289-ca82bb62c0c0",
   "metadata": {
    "execution": {
     "iopub.execute_input": "2022-02-26T15:46:51.792234Z",
     "iopub.status.busy": "2022-02-26T15:46:51.791924Z",
     "iopub.status.idle": "2022-02-26T15:46:51.796946Z",
     "shell.execute_reply": "2022-02-26T15:46:51.796373Z",
     "shell.execute_reply.started": "2022-02-26T15:46:51.792181Z"
    },
    "id": "c8a71734-f6ff-4d2c-9289-ca82bb62c0c0",
    "outputId": "4d0631eb-f5bd-44e9-c5b4-63ba13ff04f2",
    "tags": []
   },
   "outputs": [
    {
     "data": {
      "text/latex": [
       "Quantum object: dims = [[2], [1]], shape = (2, 1), type = ket\\begin{equation*}\\left(\\begin{array}{*{11}c}0.0\\\\1.0\\\\\\end{array}\\right)\\end{equation*}"
      ],
      "text/plain": [
       "Quantum object: dims = [[2], [1]], shape = (2, 1), type = ket\n",
       "Qobj data =\n",
       "[[0.]\n",
       " [1.]]"
      ]
     },
     "execution_count": 17,
     "metadata": {},
     "output_type": "execute_result"
    }
   ],
   "source": [
    "# Fundamental basis states (Fock states of oscillator modes)\n",
    "\n",
    "N = 2 # number of single particle states\n",
    "n = 1 # the state that will be occupied\n",
    "\n",
    "basis(N, n)    # equivalent to fock(N, n)"
   ]
  },
  {
   "cell_type": "code",
   "execution_count": null,
   "id": "bac4aae2-ab7d-4560-93bf-fa7c9ea52902",
   "metadata": {
    "execution": {
     "iopub.execute_input": "2022-02-26T15:47:05.997425Z",
     "iopub.status.busy": "2022-02-26T15:47:05.997231Z",
     "iopub.status.idle": "2022-02-26T15:47:06.001929Z",
     "shell.execute_reply": "2022-02-26T15:47:06.001397Z",
     "shell.execute_reply.started": "2022-02-26T15:47:05.997408Z"
    },
    "id": "bac4aae2-ab7d-4560-93bf-fa7c9ea52902",
    "outputId": "db42c96d-9826-4966-edd2-88487cd63b24",
    "tags": []
   },
   "outputs": [
    {
     "data": {
      "text/latex": [
       "Quantum object: dims = [[4], [1]], shape = (4, 1), type = ket\\begin{equation*}\\left(\\begin{array}{*{11}c}0.0\\\\0.0\\\\1.0\\\\0.0\\\\\\end{array}\\right)\\end{equation*}"
      ],
      "text/plain": [
       "Quantum object: dims = [[4], [1]], shape = (4, 1), type = ket\n",
       "Qobj data =\n",
       "[[0.]\n",
       " [0.]\n",
       " [1.]\n",
       " [0.]]"
      ]
     },
     "execution_count": 18,
     "metadata": {},
     "output_type": "execute_result"
    }
   ],
   "source": [
    "# Fundamental basis states (Fock states of oscillator modes)\n",
    "\n",
    "N = 4 # number of states in the Hilbert space\n",
    "n = 2 # the state that will be occupied\n",
    "\n",
    "basis(N, n)    # equivalent to fock(N, n)"
   ]
  },
  {
   "cell_type": "markdown",
   "id": "e220e4b6-069e-4401-bfcc-eaeebf570fa0",
   "metadata": {
    "id": "e220e4b6-069e-4401-bfcc-eaeebf570fa0"
   },
   "source": [
    "### Operators"
   ]
  },
  {
   "cell_type": "markdown",
   "id": "16a6bc91-8d8d-4ea7-a5a0-75eca2702379",
   "metadata": {
    "id": "16a6bc91-8d8d-4ea7-a5a0-75eca2702379"
   },
   "source": [
    "#### Qubit (two-level system) operators"
   ]
  },
  {
   "cell_type": "code",
   "execution_count": null,
   "id": "84388fc2-6606-4332-bcd0-ce9662ce6f47",
   "metadata": {
    "execution": {
     "iopub.execute_input": "2022-02-26T15:50:01.131316Z",
     "iopub.status.busy": "2022-02-26T15:50:01.130667Z",
     "iopub.status.idle": "2022-02-26T15:50:01.136770Z",
     "shell.execute_reply": "2022-02-26T15:50:01.136126Z",
     "shell.execute_reply.started": "2022-02-26T15:50:01.131292Z"
    },
    "id": "84388fc2-6606-4332-bcd0-ce9662ce6f47",
    "outputId": "4dbf9100-ca47-44d5-f1e9-838ce1132635"
   },
   "outputs": [
    {
     "data": {
      "text/latex": [
       "Quantum object: dims = [[2], [2]], shape = (2, 2), type = oper, isherm = True\\begin{equation*}\\left(\\begin{array}{*{11}c}0.0 & 1.0\\\\1.0 & 0.0\\\\\\end{array}\\right)\\end{equation*}"
      ],
      "text/plain": [
       "Quantum object: dims = [[2], [2]], shape = (2, 2), type = oper, isherm = True\n",
       "Qobj data =\n",
       "[[0. 1.]\n",
       " [1. 0.]]"
      ]
     },
     "execution_count": 21,
     "metadata": {},
     "output_type": "execute_result"
    }
   ],
   "source": [
    "# Pauli sigma x\n",
    "sigmax()"
   ]
  },
  {
   "cell_type": "code",
   "execution_count": null,
   "id": "36bf7815-325e-46a0-b8fb-e21a0ffe1008",
   "metadata": {
    "execution": {
     "iopub.execute_input": "2022-02-26T15:50:06.577763Z",
     "iopub.status.busy": "2022-02-26T15:50:06.577365Z",
     "iopub.status.idle": "2022-02-26T15:50:06.582693Z",
     "shell.execute_reply": "2022-02-26T15:50:06.582129Z",
     "shell.execute_reply.started": "2022-02-26T15:50:06.577746Z"
    },
    "id": "36bf7815-325e-46a0-b8fb-e21a0ffe1008",
    "outputId": "3134b066-2d3f-4a77-9e24-7de8e45f8e99"
   },
   "outputs": [
    {
     "data": {
      "text/latex": [
       "Quantum object: dims = [[2], [2]], shape = (2, 2), type = oper, isherm = True\\begin{equation*}\\left(\\begin{array}{*{11}c}0.0 & -1.0j\\\\1.0j & 0.0\\\\\\end{array}\\right)\\end{equation*}"
      ],
      "text/plain": [
       "Quantum object: dims = [[2], [2]], shape = (2, 2), type = oper, isherm = True\n",
       "Qobj data =\n",
       "[[0.+0.j 0.-1.j]\n",
       " [0.+1.j 0.+0.j]]"
      ]
     },
     "execution_count": 22,
     "metadata": {},
     "output_type": "execute_result"
    }
   ],
   "source": [
    "# Pauli sigma y\n",
    "sigmay()"
   ]
  },
  {
   "cell_type": "code",
   "execution_count": null,
   "id": "279229ce-61bd-4ca5-82bf-91d4d554bf3c",
   "metadata": {
    "execution": {
     "iopub.execute_input": "2022-02-26T15:50:16.607715Z",
     "iopub.status.busy": "2022-02-26T15:50:16.607550Z",
     "iopub.status.idle": "2022-02-26T15:50:16.612114Z",
     "shell.execute_reply": "2022-02-26T15:50:16.611603Z",
     "shell.execute_reply.started": "2022-02-26T15:50:16.607700Z"
    },
    "id": "279229ce-61bd-4ca5-82bf-91d4d554bf3c",
    "outputId": "6062b683-d55c-41dd-9468-bf13464900f1"
   },
   "outputs": [
    {
     "data": {
      "text/latex": [
       "Quantum object: dims = [[2], [2]], shape = (2, 2), type = oper, isherm = True\\begin{equation*}\\left(\\begin{array}{*{11}c}1.0 & 0.0\\\\0.0 & -1.0\\\\\\end{array}\\right)\\end{equation*}"
      ],
      "text/plain": [
       "Quantum object: dims = [[2], [2]], shape = (2, 2), type = oper, isherm = True\n",
       "Qobj data =\n",
       "[[ 1.  0.]\n",
       " [ 0. -1.]]"
      ]
     },
     "execution_count": 23,
     "metadata": {},
     "output_type": "execute_result"
    }
   ],
   "source": [
    "# Pauli sigma z\n",
    "sigmaz()"
   ]
  },
  {
   "cell_type": "markdown",
   "id": "39339f3d-7202-4c4d-87cf-147ba679ad82",
   "metadata": {
    "id": "39339f3d-7202-4c4d-87cf-147ba679ad82"
   },
   "source": [
    "#### Creation and Annihilation operators"
   ]
  },
  {
   "cell_type": "code",
   "execution_count": null,
   "id": "a3d86fca-e287-4775-9366-c0e659558bc9",
   "metadata": {
    "execution": {
     "iopub.execute_input": "2022-02-26T18:52:41.535073Z",
     "iopub.status.busy": "2022-02-26T18:52:41.534914Z",
     "iopub.status.idle": "2022-02-26T18:52:41.544015Z",
     "shell.execute_reply": "2022-02-26T18:52:41.543551Z",
     "shell.execute_reply.started": "2022-02-26T18:52:41.535056Z"
    },
    "id": "a3d86fca-e287-4775-9366-c0e659558bc9",
    "outputId": "5115cc7b-0f48-45b9-8f6e-8e8916f51cbc",
    "tags": []
   },
   "outputs": [
    {
     "data": {
      "text/latex": [
       "Quantum object: dims = [[8], [8]], shape = (8, 8), type = oper, isherm = False\\begin{equation*}\\left(\\begin{array}{*{11}c}0.0 & 0.0 & 0.0 & 0.0 & 0.0 & 0.0 & 0.0 & 0.0\\\\1.0 & 0.0 & 0.0 & 0.0 & 0.0 & 0.0 & 0.0 & 0.0\\\\0.0 & 1.414 & 0.0 & 0.0 & 0.0 & 0.0 & 0.0 & 0.0\\\\0.0 & 0.0 & 1.732 & 0.0 & 0.0 & 0.0 & 0.0 & 0.0\\\\0.0 & 0.0 & 0.0 & 2.0 & 0.0 & 0.0 & 0.0 & 0.0\\\\0.0 & 0.0 & 0.0 & 0.0 & 2.236 & 0.0 & 0.0 & 0.0\\\\0.0 & 0.0 & 0.0 & 0.0 & 0.0 & 2.449 & 0.0 & 0.0\\\\0.0 & 0.0 & 0.0 & 0.0 & 0.0 & 0.0 & 2.646 & 0.0\\\\\\end{array}\\right)\\end{equation*}"
      ],
      "text/plain": [
       "Quantum object: dims = [[8], [8]], shape = (8, 8), type = oper, isherm = False\n",
       "Qobj data =\n",
       "[[0.         0.         0.         0.         0.         0.\n",
       "  0.         0.        ]\n",
       " [1.         0.         0.         0.         0.         0.\n",
       "  0.         0.        ]\n",
       " [0.         1.41421356 0.         0.         0.         0.\n",
       "  0.         0.        ]\n",
       " [0.         0.         1.73205081 0.         0.         0.\n",
       "  0.         0.        ]\n",
       " [0.         0.         0.         2.         0.         0.\n",
       "  0.         0.        ]\n",
       " [0.         0.         0.         0.         2.23606798 0.\n",
       "  0.         0.        ]\n",
       " [0.         0.         0.         0.         0.         2.44948974\n",
       "  0.         0.        ]\n",
       " [0.         0.         0.         0.         0.         0.\n",
       "  2.64575131 0.        ]]"
      ]
     },
     "execution_count": 119,
     "metadata": {},
     "output_type": "execute_result"
    }
   ],
   "source": [
    "# creation operator for N=8 particles\n",
    "N=8\n",
    "create(N) # equivalent to destroy(5).dag()"
   ]
  },
  {
   "cell_type": "markdown",
   "id": "64a8f24e-c8d5-4fbb-8edf-92d5e6cbfa3a",
   "metadata": {
    "id": "64a8f24e-c8d5-4fbb-8edf-92d5e6cbfa3a"
   },
   "source": [
    "#### Using `Qobj` instances we can check some well known commutation relations:"
   ]
  },
  {
   "cell_type": "code",
   "execution_count": null,
   "id": "f56397b1-1696-4cb1-a625-a6f4435d4882",
   "metadata": {
    "execution": {
     "iopub.execute_input": "2022-02-26T15:54:10.764046Z",
     "iopub.status.busy": "2022-02-26T15:54:10.763453Z",
     "iopub.status.idle": "2022-02-26T15:54:10.766776Z",
     "shell.execute_reply": "2022-02-26T15:54:10.766251Z",
     "shell.execute_reply.started": "2022-02-26T15:54:10.764027Z"
    },
    "id": "f56397b1-1696-4cb1-a625-a6f4435d4882"
   },
   "outputs": [],
   "source": [
    "def commutator(op1, op2):\n",
    "    return op1 * op2 - op2 * op1"
   ]
  },
  {
   "cell_type": "markdown",
   "id": "a6ce0757-5886-4373-9f5b-c5951f732706",
   "metadata": {
    "id": "a6ce0757-5886-4373-9f5b-c5951f732706"
   },
   "source": [
    "Now, let us create a creation operator and an annihilation operator and prove that they commute, *i.e*\n",
    "\n",
    "\\begin{equation*}\n",
    "\\left[a, a^\\dagger\\right] = a\\;a^\\dagger - a^\\dagger a = 1\n",
    "\\end{equation*}"
   ]
  },
  {
   "cell_type": "code",
   "execution_count": null,
   "id": "77b2a8e2-2cb9-48df-be13-6c56b91557b4",
   "metadata": {
    "execution": {
     "iopub.execute_input": "2022-02-26T15:56:48.676047Z",
     "iopub.status.busy": "2022-02-26T15:56:48.675388Z",
     "iopub.status.idle": "2022-02-26T15:56:48.680464Z",
     "shell.execute_reply": "2022-02-26T15:56:48.679981Z",
     "shell.execute_reply.started": "2022-02-26T15:56:48.676027Z"
    },
    "id": "77b2a8e2-2cb9-48df-be13-6c56b91557b4",
    "outputId": "ca407cf6-1958-4f89-9fe3-6185f7cadebb",
    "tags": []
   },
   "outputs": [
    {
     "name": "stdout",
     "output_type": "stream",
     "text": [
      "Quantum object: dims = [[10], [10]], shape = (10, 10), type = oper, isherm = True\n",
      "Qobj data =\n",
      "[[ 1.  0.  0.  0.  0.  0.  0.  0.  0.  0.]\n",
      " [ 0.  1.  0.  0.  0.  0.  0.  0.  0.  0.]\n",
      " [ 0.  0.  1.  0.  0.  0.  0.  0.  0.  0.]\n",
      " [ 0.  0.  0.  1.  0.  0.  0.  0.  0.  0.]\n",
      " [ 0.  0.  0.  0.  1.  0.  0.  0.  0.  0.]\n",
      " [ 0.  0.  0.  0.  0.  1.  0.  0.  0.  0.]\n",
      " [ 0.  0.  0.  0.  0.  0.  1.  0.  0.  0.]\n",
      " [ 0.  0.  0.  0.  0.  0.  0.  1.  0.  0.]\n",
      " [ 0.  0.  0.  0.  0.  0.  0.  0.  1.  0.]\n",
      " [ 0.  0.  0.  0.  0.  0.  0.  0.  0. -9.]]\n"
     ]
    }
   ],
   "source": [
    "N = 10\n",
    "\n",
    "#Annihilation operator\n",
    "a = destroy(N)\n",
    "\n",
    "print(commutator(a, a.dag()))"
   ]
  },
  {
   "cell_type": "markdown",
   "id": "94fe9620-f637-42f7-ace2-705ef81803ba",
   "metadata": {
    "id": "94fe9620-f637-42f7-ace2-705ef81803ba"
   },
   "source": [
    "**Oops...** The result is not exactly identity (look at the last element)! Why? Because we have truncated the Hilbert space at $10$ particles, but the exact Hilbert space has infinite particles. The last $-9$ is a **truncation error**. As long as our truncation is reasonably large, this should not pose a serious problem."
   ]
  },
  {
   "cell_type": "markdown",
   "id": "5513edb6-32f3-4814-be10-ee7dee493a58",
   "metadata": {
    "id": "5513edb6-32f3-4814-be10-ee7dee493a58"
   },
   "source": [
    "What about the algebra of spin operators? Let us prove that\n",
    "\n",
    "\\begin{align*}\n",
    "\\left[\\sigma_x, \\sigma_y\\right] &= 2i\\sigma_z,\\\\\n",
    "-i \\sigma_x \\sigma_y \\sigma_z &= \\mathbf{1}\n",
    "\\end{align*}\n"
   ]
  },
  {
   "cell_type": "code",
   "execution_count": null,
   "id": "abd3f1b9-9fca-4483-ad94-a268619c487c",
   "metadata": {
    "execution": {
     "iopub.execute_input": "2022-02-26T16:05:33.083387Z",
     "iopub.status.busy": "2022-02-26T16:05:33.083182Z",
     "iopub.status.idle": "2022-02-26T16:05:33.092434Z",
     "shell.execute_reply": "2022-02-26T16:05:33.091886Z",
     "shell.execute_reply.started": "2022-02-26T16:05:33.083363Z"
    },
    "id": "abd3f1b9-9fca-4483-ad94-a268619c487c",
    "outputId": "38ad51f9-24ee-4b53-b90a-0d20eac83229",
    "tags": []
   },
   "outputs": [
    {
     "name": "stdout",
     "output_type": "stream",
     "text": [
      "Quantum object: dims = [[2], [2]], shape = (2, 2), type = oper, isherm = True\n",
      "Qobj data =\n",
      "[[0. 0.]\n",
      " [0. 0.]]\n",
      "\n",
      "\n",
      "\n",
      "Quantum object: dims = [[2], [2]], shape = (2, 2), type = oper, isherm = True\n",
      "Qobj data =\n",
      "[[1. 0.]\n",
      " [0. 1.]]\n"
     ]
    }
   ],
   "source": [
    "print(commutator(sigmax(), sigmay()) - 2j * sigmaz())\n",
    "print(\"\\n\\n\")\n",
    "print(-1j * sigmax() * sigmay() * sigmaz())"
   ]
  },
  {
   "cell_type": "markdown",
   "id": "afbb38de-450d-489d-ad4c-19c24eb8a361",
   "metadata": {
    "id": "afbb38de-450d-489d-ad4c-19c24eb8a361"
   },
   "source": [
    "## Systems of Bosons in QuTiP\n",
    "\n",
    "Let us consider a test Hamiltonian, the tight-binding model. Here, there are $N$ lattice-sites, labelled by the number $i$, in one-dimension . Each lattice site can either be empty in a vacuum state $|0\\rangle$, or 'create' a particle in a Wannier state $|i\\rangle$ localized at that site. Thus, we can define creation and annihilation operators $c_i, c^\\dagger_i$ such that\n",
    "\n",
    "\\begin{align*}\n",
    "c^\\dagger_i|0\\rangle &= |i\\rangle \\\\\n",
    "c |i\\rangle &= |0\\rangle \\\\\n",
    "c^\\dagger_i|i\\rangle &= c|0\\rangle = 0.\n",
    "\\end{align*}\n",
    "\n",
    "Now, the 'tightly-bound' Hamiltonian simply involves nearest-neighbour tunneling and nothing else. Thus\n",
    "\n",
    "\\begin{equation*}\n",
    "H = \\frac{1}{2}\\sum^{N-1}_{i=0} \\left(c^\\dagger_i c_{i+1} + c^\\dagger_{i+1}c_i\\right)\n",
    "\\end{equation*}\n"
   ]
  },
  {
   "cell_type": "markdown",
   "id": "35087d40-211f-4c7b-b3bf-b0eff977a41f",
   "metadata": {
    "id": "35087d40-211f-4c7b-b3bf-b0eff977a41f"
   },
   "source": [
    "In this hamiltonian, each site can now be thought of as a 'state' (the Wannier state $|i\\rangle$). Now, we have already seen how `QuTip` has a routine called `basis(N,k)` that can create a population at state $k$ for $N$ particles. If we pretend that the $k-$s are actually Wannier states at lattice sites $k$, then the Hamiltonian can be built trivially in `QuTip` as shown in the example below."
   ]
  },
  {
   "cell_type": "code",
   "execution_count": null,
   "id": "b544889d-202f-4ba1-855a-c8356f9b2f16",
   "metadata": {
    "execution": {
     "iopub.execute_input": "2022-02-26T18:55:19.767097Z",
     "iopub.status.busy": "2022-02-26T18:55:19.766908Z",
     "iopub.status.idle": "2022-02-26T18:55:19.791788Z",
     "shell.execute_reply": "2022-02-26T18:55:19.791203Z",
     "shell.execute_reply.started": "2022-02-26T18:55:19.767065Z"
    },
    "id": "b544889d-202f-4ba1-855a-c8356f9b2f16",
    "tags": []
   },
   "outputs": [],
   "source": [
    "#N = 100\n",
    "N = 30\n",
    "\n",
    "H = sum([basis(N,i) * basis(N, i + 1).dag() for i in range(N - 1)]) +\\\n",
    "    sum([basis(N,i) * basis(N, i - 1).dag() for i in range(1, N)])\n"
   ]
  },
  {
   "cell_type": "markdown",
   "id": "1d9722f8-3000-4c4c-91fb-8067196b0078",
   "metadata": {
    "id": "1d9722f8-3000-4c4c-91fb-8067196b0078",
    "tags": []
   },
   "source": [
    "Here, the `sum()` routine is also from `QuTip`. Now, let us diagonalize this Hamiltonian and plot the eigenvalues"
   ]
  },
  {
   "cell_type": "code",
   "execution_count": null,
   "id": "8f122376-f2e6-49dc-84dd-8fa291dd7d89",
   "metadata": {
    "execution": {
     "iopub.execute_input": "2022-02-26T18:55:32.085939Z",
     "iopub.status.busy": "2022-02-26T18:55:32.085780Z",
     "iopub.status.idle": "2022-02-26T18:55:32.089370Z",
     "shell.execute_reply": "2022-02-26T18:55:32.088857Z",
     "shell.execute_reply.started": "2022-02-26T18:55:32.085923Z"
    },
    "id": "8f122376-f2e6-49dc-84dd-8fa291dd7d89",
    "tags": []
   },
   "outputs": [],
   "source": [
    "evals = H.eigenenergies()\n",
    "# satisfy periodic boundary conditions we need E(-k) = E(k)\n",
    "numerical = np.concatenate((np.flip(evals, 0), evals), axis=0)"
   ]
  },
  {
   "cell_type": "markdown",
   "id": "cf0cf85c-5b50-4f05-99f0-94b73b114f48",
   "metadata": {
    "id": "cf0cf85c-5b50-4f05-99f0-94b73b114f48"
   },
   "source": [
    "Now, consider the analytical solution of the eigenvalue problem $H|\\psi_k\\rangle = \\epsilon_k |\\psi_k\\rangle$, which are the Bloch states given by $|\\psi_k\\rangle = \\sum_n e^{-ink}|k\\rangle$ with eigenvalues $\\epsilon_k = -2\\cos{k}$, where $k$ is a lattice momentum lying in the First Brillouin Zone, *i.e* $k_n = 2\\pi/n\\in [-\\pi,\\pi]$. Let us compare the analytical and numerical solutions.\n",
    "\n"
   ]
  },
  {
   "cell_type": "code",
   "execution_count": null,
   "id": "1bc5cb5a-d3c1-41d3-a24c-42fade8a29a5",
   "metadata": {
    "execution": {
     "iopub.execute_input": "2022-02-26T18:55:35.619269Z",
     "iopub.status.busy": "2022-02-26T18:55:35.618609Z",
     "iopub.status.idle": "2022-02-26T18:55:35.792858Z",
     "shell.execute_reply": "2022-02-26T18:55:35.792394Z",
     "shell.execute_reply.started": "2022-02-26T18:55:35.619245Z"
    },
    "id": "1bc5cb5a-d3c1-41d3-a24c-42fade8a29a5",
    "outputId": "62866d4a-c0a2-4c55-8c66-621e5a05a30f",
    "tags": []
   },
   "outputs": [
    {
     "data": {
      "image/png": "[encoded data removed]",
      "text/plain": [
       "<Figure size 864x576 with 1 Axes>"
      ]
     },
     "metadata": {
      "needs_background": "light"
     },
     "output_type": "display_data"
    }
   ],
   "source": [
    "import numpy as np\n",
    "import matplotlib.pyplot as plt\n",
    "\n",
    "plt.rcParams['figure.figsize'] = (12,8)\n",
    "plt.rcParams['font.size'] = 20\n",
    "k = np.linspace(-np.pi, np.pi, 2*N)\n",
    "\n",
    "#plt.scatter(k[::3],numerical[::3].real, label='Eigenvalues of H')\n",
    "plt.scatter(k,numerical.real, label='Eigenvalues of H')\n",
    "\n",
    "analytical = -2 * np.cos(k)\n",
    "plt.title(f\"Tightly bound electrons in a lattice, size {N}\")\n",
    "plt.plot(k,analytical, label='Analytical energies')\n",
    "plt.xlabel(\"k\")\n",
    "plt.ylabel(\"eps\")\n",
    "plt.legend()\n",
    "plt.show()"
   ]
  },
  {
   "cell_type": "markdown",
   "id": "03cf343b-6d23-4bb2-ae5d-00fb20ffd17b",
   "metadata": {
    "id": "03cf343b-6d23-4bb2-ae5d-00fb20ffd17b"
   },
   "source": [
    "## Systems of Fermions in QuTiP\n",
    "\n",
    "Fermions are a little harder to simulate in `QutiP`, but they can be done. Consider a system of $N$ coupled spin-$1/2$ particles. The Hamiltonian is given by\n",
    "\n",
    "\\begin{equation*}\n",
    "H = \\sum^{N-1}_{i=0}\\omega_i \\sigma^z_i +  g\\sum^{N-1}_{i=0}\\sigma^x_i\\sigma^x_{i+1}\n",
    "\\end{equation*}\n",
    "\n",
    "We have to be a little careful with our choice of $N$, since the dimensions of the Hamiltonian scale as $2^N\\times 2^N$, so if our $N$ is too large, we'll swiftly run out of computer memory *and* disk space. This happens because each spin-$1/2$ has a Hilbert space dimension of $2$, and the terms in the sum above are actually shorthand for the full exact operators, which involve tensor products with unity at the empty sites, thus, a term like $\\sigma^x_i\\sigma^x_{i+1}$ will actually become a full tensor product of $N-2$ unit matrices and two $\\sigma_x$s. For example, in a system \n",
    "of $5$ such fermions\n",
    "\n",
    "\\begin{align*}\n",
    "\\sigma^x_0\\sigma^x_1 & \\rightarrow \\sigma^x \\otimes\\sigma^x \\otimes \\mathbf{1}\\otimes \\mathbf{1}\\otimes \\mathbf{1}\\\\\n",
    "\\sigma^x_1\\sigma^x_2 & \\rightarrow \\mathbf{1}\\otimes \\sigma^x \\otimes\\sigma^x \\otimes \\mathbf{1}\\otimes \\mathbf{1}\\\\\n",
    "\\dots & \\dots \\\\\n",
    "\\sigma^x_3\\sigma^x_4 &\\rightarrow \\mathbf{1}\\otimes \\mathbf{1}\\otimes \\mathbf{1}\\otimes \\sigma^x \\otimes\\sigma^x \\\\\n",
    "\\dots & \\dots \\\\\n",
    "\\sigma^z_0&\\rightarrow \\sigma^z \\otimes \\mathbf{1}\\otimes \\mathbf{1}\\otimes \\mathbf{1} \\otimes\\mathbf{1}\\\\\n",
    "\\sigma^z_1&\\rightarrow \\mathbf{1}\\otimes\\sigma^z \\otimes \\mathbf{1}\\otimes \\mathbf{1}\\otimes \\mathbf{1} \\\\\n",
    "\\sigma^z_2&\\rightarrow \\mathbf{1}\\otimes \\mathbf{1}\\otimes \\sigma^z\\otimes \\mathbf{1} \\otimes\\mathbf{1}\\\\\n",
    "\\dots & \\dots\n",
    "\\end{align*}\n",
    "\n",
    "Let us keep $N<11$. Suppose $N=3$. Let us vary $\\omega_1$ and keep everything else fixed, and plot the energy eigenvalues as functions of $\\omega_1$ using `QuTiP`. The $\\otimes$ operation can be done using the `tensor()` function, and the identity $\\mathbf{1}$ can be obtained from the `qeye()` function."
   ]
  },
  {
   "cell_type": "code",
   "execution_count": null,
   "id": "8ca62721-904d-4fa5-8530-5b56dff03c6e",
   "metadata": {
    "execution": {
     "iopub.execute_input": "2022-02-26T18:55:48.148948Z",
     "iopub.status.busy": "2022-02-26T18:55:48.148791Z",
     "iopub.status.idle": "2022-02-26T18:55:48.154364Z",
     "shell.execute_reply": "2022-02-26T18:55:48.153765Z",
     "shell.execute_reply.started": "2022-02-26T18:55:48.148931Z"
    },
    "id": "8ca62721-904d-4fa5-8530-5b56dff03c6e",
    "tags": []
   },
   "outputs": [],
   "source": [
    "def evals_multw(w1list, w2, w3, g12, g13):\n",
    "\n",
    "    # Pre-compute operators for the hamiltonian\n",
    "    sz1 = tensor(sigmaz(), qeye(2), qeye(2))\n",
    "    sx1 = tensor(sigmax(), qeye(2), qeye(2))\n",
    "\n",
    "    sz2 = tensor(qeye(2), sigmaz(), qeye(2))\n",
    "    sx2 = tensor(qeye(2), sigmax(), qeye(2))\n",
    "\n",
    "    sz3 = tensor(qeye(2), qeye(2), sigmaz())\n",
    "    sx3 = tensor(qeye(2), qeye(2), sigmax())\n",
    "  \n",
    "    evals_mat = np.zeros((len(w1list),2**3))\n",
    "    for idx, w1 in enumerate(w1list):\n",
    "        # evaluate the Hamiltonian\n",
    "        H = w1 * sz1 + w2 * sz2 + w3 * sz3 +\\\n",
    "            g12 * sx1 * sx2 + g13 * sx1 * sx3\n",
    "        # find the energy eigenvalues of the composite system\n",
    "        evals = H.eigenenergies()\n",
    "        evals_mat[idx,:] = np.real(evals)\n",
    "\n",
    "    return evals_mat"
   ]
  },
  {
   "cell_type": "code",
   "execution_count": null,
   "id": "c063cd9e-1b85-4113-8290-4e56200dfbe9",
   "metadata": {
    "execution": {
     "iopub.execute_input": "2022-02-26T18:55:50.359394Z",
     "iopub.status.busy": "2022-02-26T18:55:50.359224Z",
     "iopub.status.idle": "2022-02-26T18:55:50.423605Z",
     "shell.execute_reply": "2022-02-26T18:55:50.423095Z",
     "shell.execute_reply.started": "2022-02-26T18:55:50.359378Z"
    },
    "id": "c063cd9e-1b85-4113-8290-4e56200dfbe9",
    "tags": []
   },
   "outputs": [],
   "source": [
    "w1  = 1.0 * 2 * np.pi   # atom 1 frequency: sweep this one\n",
    "w2  = 0.9 * 2 * np.pi   # atom 2 frequency\n",
    "w3  = 1.1 * 2 * np.pi   # atom 3 frequency\n",
    "g12 = 0.05 * 2 * np.pi   # atom1-atom2 coupling strength\n",
    "g13 = 0.05 * 2 * np.pi   # atom1-atom3 coupling strength\n",
    "\n",
    "w1list = np.linspace(0.75, 1.25, 50) * 2 * np.pi # atom 1 frequency range\n",
    "evals_mat = evals_multw(w1list, w2, w3, g12, g13)"
   ]
  },
  {
   "cell_type": "code",
   "execution_count": null,
   "id": "a2a569ee-be1f-48f0-9da9-74e5030acae0",
   "metadata": {
    "execution": {
     "iopub.execute_input": "2022-02-26T18:55:52.587167Z",
     "iopub.status.busy": "2022-02-26T18:55:52.587018Z",
     "iopub.status.idle": "2022-02-26T18:55:52.713881Z",
     "shell.execute_reply": "2022-02-26T18:55:52.713435Z",
     "shell.execute_reply.started": "2022-02-26T18:55:52.587151Z"
    },
    "id": "a2a569ee-be1f-48f0-9da9-74e5030acae0",
    "outputId": "a72deab2-035a-44ed-9e1b-5323dd5cb5bf",
    "tags": []
   },
   "outputs": [
    {
     "data": {
      "image/png": "[encoded data removed]",
      "text/plain": [
       "<Figure size 864x432 with 1 Axes>"
      ]
     },
     "metadata": {
      "needs_background": "light"
     },
     "output_type": "display_data"
    }
   ],
   "source": [
    "import matplotlib.pyplot as plt\n",
    "plt.rcParams['font.size'] = 20\n",
    "fig, ax = plt.subplots(figsize=(12,6))\n",
    "\n",
    "for n in [1,2,3]:\n",
    "    ax.plot(w1list / (2*np.pi), (evals_mat[:,n]-evals_mat[:,0]) / (2*np.pi), 'b')\n",
    "\n",
    "ax.set_xlabel('Energy splitting of electron 1')\n",
    "ax.set_ylabel('Eigenenergies')\n",
    "ax.set_title('Energy spectrum of three coupled electrons')\n",
    "plt.show()"
   ]
  },
  {
   "cell_type": "markdown",
   "id": "64e7c3f8-b5ac-4cfd-aa97-a179b3fc2afb",
   "metadata": {
    "id": "64e7c3f8-b5ac-4cfd-aa97-a179b3fc2afb"
   },
   "source": [
    "## Unitary dynamics\n",
    "\n",
    "Unitary evolution of a quantum system in `QuTiP` can be calculated with the `mesolve` function. This solves the Schrodinger equation\n",
    "\n",
    "\\begin{equation*}\n",
    "H|\\psi\\rangle = i \\frac{d}{dt}|\\psi\\rangle,\n",
    "\\end{equation*}\n",
    "\n",
    "using prebuilt numerical methods. The name `mesolve` is short for Master-eqaution solve (for dissipative dynamics), but if no collapse operators (which describe the dissipation) are given to the solve it falls back on the unitary evolution of the Schr\\\"odinger equation.\n",
    "\n",
    "The evolution solvers in QuTiP returns a class of type `Odedata`, which contains the solution to the problem posed to the evolution solver. \n",
    "\n",
    "For example, considor a single spin-$1/2$ particle with Hamiltonian $H = \\sigma_x$ and initial state $\\left|1\\right>$ (in the $\\sigma_z-$basis): Its evolution can be calculated as follows:"
   ]
  },
  {
   "cell_type": "code",
   "execution_count": null,
   "id": "27692205-39a3-4f10-bbaf-d737303a4211",
   "metadata": {
    "execution": {
     "iopub.execute_input": "2022-02-26T18:31:24.362511Z",
     "iopub.status.busy": "2022-02-26T18:31:24.362314Z",
     "iopub.status.idle": "2022-02-26T18:31:24.376049Z",
     "shell.execute_reply": "2022-02-26T18:31:24.375470Z",
     "shell.execute_reply.started": "2022-02-26T18:31:24.362492Z"
    },
    "id": "27692205-39a3-4f10-bbaf-d737303a4211",
    "outputId": "1a9fbc22-c78e-48d8-aae7-3feeec31f3c1",
    "tags": []
   },
   "outputs": [
    {
     "name": "stdout",
     "output_type": "stream",
     "text": [
      "Result object with sesolve data.\n",
      "--------------------------------\n",
      "states = True\n",
      "num_collapse = 0\n"
     ]
    }
   ],
   "source": [
    "# Hamiltonian\n",
    "H = sigmax()\n",
    "\n",
    "# initial state\n",
    "psi0 = basis(2, 0)\n",
    "\n",
    "# list of times for which the solver should store the state vector\n",
    "tlist = np.linspace(0, 10, 100)\n",
    "\n",
    "result = mesolve(H, psi0, tlist, [], [])\n",
    "print(result)"
   ]
  },
  {
   "cell_type": "code",
   "execution_count": null,
   "id": "607e2487-7bda-408a-8197-1ce4551c9d18",
   "metadata": {
    "execution": {
     "iopub.execute_input": "2022-02-26T18:27:54.088039Z",
     "iopub.status.busy": "2022-02-26T18:27:54.087888Z",
     "iopub.status.idle": "2022-02-26T18:27:54.092433Z",
     "shell.execute_reply": "2022-02-26T18:27:54.092030Z",
     "shell.execute_reply.started": "2022-02-26T18:27:54.088023Z"
    },
    "id": "607e2487-7bda-408a-8197-1ce4551c9d18",
    "outputId": "6f3d916b-d7ec-47e1-dd28-da367d083ce8"
   },
   "outputs": [
    {
     "data": {
      "text/latex": [
       "Quantum object: dims = [[2], [1]], shape = (2, 1), type = ket\\begin{equation*}\\left(\\begin{array}{*{11}c}-0.839\\\\0.544j\\\\\\end{array}\\right)\\end{equation*}"
      ],
      "text/plain": [
       "Quantum object: dims = [[2], [1]], shape = (2, 1), type = ket\n",
       "Qobj data =\n",
       "[[-0.8390774+0.j        ]\n",
       " [ 0.       +0.54401206j]]"
      ]
     },
     "execution_count": 115,
     "metadata": {},
     "output_type": "execute_result"
    }
   ],
   "source": [
    "result.states[-1] # the finial state"
   ]
  },
  {
   "cell_type": "markdown",
   "id": "0b20b06b-abe2-46ce-a81d-1b7cab5a31f8",
   "metadata": {
    "id": "0b20b06b-abe2-46ce-a81d-1b7cab5a31f8"
   },
   "source": [
    "### Expectation values\n",
    "\n",
    "The expectation values of an operator given a state vector or density matrix (or list thereof) can be calculated using the `expect` function. "
   ]
  },
  {
   "cell_type": "code",
   "execution_count": null,
   "id": "34a47389-1eb3-4556-a0df-7f0b50869b6f",
   "metadata": {
    "execution": {
     "iopub.execute_input": "2022-02-26T18:29:13.356939Z",
     "iopub.status.busy": "2022-02-26T18:29:13.356720Z",
     "iopub.status.idle": "2022-02-26T18:29:13.385125Z",
     "shell.execute_reply": "2022-02-26T18:29:13.384794Z",
     "shell.execute_reply.started": "2022-02-26T18:29:13.356922Z"
    },
    "id": "34a47389-1eb3-4556-a0df-7f0b50869b6f",
    "outputId": "37e30d36-48cc-4e39-c4ed-5b38b701742d"
   },
   "outputs": [
    {
     "data": {
      "text/plain": [
       "array([ 1.        ,  0.97966324,  0.91948013,  0.82189857,  0.69088756,\n",
       "        0.53177579,  0.3510349 ,  0.15601625, -0.04534808, -0.24486795,\n",
       "       -0.43442821, -0.60631884, -0.75354841, -0.87012859, -0.95131766,\n",
       "       -0.99381332, -0.99588712, -0.95745468, -0.88007921, -0.76690787,\n",
       "       -0.62254375, -0.45285867, -0.26475429, -0.06588149,  0.13567091,\n",
       "        0.33170513,  0.51424779,  0.67587427,  0.81001063,  0.91120109,\n",
       "        0.97532984,  0.99978853,  0.9835823 ,  0.92737033,  0.83343897,\n",
       "        0.70560878,  0.54907906,  0.37021643,  0.17629587, -0.02479521,\n",
       "       -0.22487778, -0.41581382, -0.58983733, -0.73987014, -0.85980992,\n",
       "       -0.94477826, -0.9913192 , -0.99753971, -0.96318677, -0.88965766,\n",
       "       -0.77994308, -0.63850553, -0.4710978 , -0.28452892, -0.08638732,\n",
       "        0.11526793,  0.31223484,  0.49650212,  0.660575  ,  0.79778003,\n",
       "        0.90253662,  0.97058393,  0.99915421,  0.98708537,  0.9348683 ,\n",
       "        0.84462688,  0.72003156,  0.56615011,  0.38924141,  0.19650096,\n",
       "       -0.00423183, -0.20479249, -0.39702355, -0.57310633, -0.72587894,\n",
       "       -0.84912758, -0.93783928, -0.9884058 , -0.99877041, -0.9685115 ,\n",
       "       -0.89885984, -0.79264843, -0.65419728, -0.4891377 , -0.30418323,\n",
       "       -0.10685663,  0.09481617,  0.29263248,  0.47854644,  0.64499632,\n",
       "        0.785212  ,  0.89349043,  0.96542751,  0.9980973 ,  0.99017096,\n",
       "        0.94197089,  0.85545757,  0.73414984,  0.58298172,  0.40810176])"
      ]
     },
     "execution_count": 116,
     "metadata": {},
     "output_type": "execute_result"
    }
   ],
   "source": [
    "expect(sigmaz(), result.states)"
   ]
  },
  {
   "cell_type": "code",
   "execution_count": null,
   "id": "a43842de-0381-403b-93c6-2171d8c1daa9",
   "metadata": {
    "execution": {
     "iopub.execute_input": "2022-02-26T18:29:22.098102Z",
     "iopub.status.busy": "2022-02-26T18:29:22.097935Z",
     "iopub.status.idle": "2022-02-26T18:29:22.606603Z",
     "shell.execute_reply": "2022-02-26T18:29:22.606077Z",
     "shell.execute_reply.started": "2022-02-26T18:29:22.098087Z"
    },
    "id": "a43842de-0381-403b-93c6-2171d8c1daa9",
    "outputId": "a48d8a12-894d-4b2f-800a-c229f339e3f1"
   },
   "outputs": [
    {
     "data": {
      "image/png": "[encoded data removed]",
      "text/plain": [
       "<Figure size 864x576 with 1 Axes>"
      ]
     },
     "metadata": {
      "needs_background": "light"
     },
     "output_type": "display_data"
    }
   ],
   "source": [
    "fig, axes = plt.subplots(1,1)\n",
    "\n",
    "axes.plot(tlist, expect(sigmaz(), result.states))\n",
    "\n",
    "axes.set_xlabel(r'$t$', fontsize=20)\n",
    "axes.set_ylabel(r'$\\left<\\sigma_z\\right>$', fontsize=20);"
   ]
  }
 ],
 "metadata": {
  "colab": {
   "include_colab_link": true,
   "name": "Ordinary_Differential_Equations.ipynb",
   "provenance": []
  },
  "kernelspec": {
   "display_name": "Python 3 (ipykernel)",
   "language": "python",
   "name": "python3"
  },
  "language_info": {
   "codemirror_mode": {
    "name": "ipython",
    "version": 3
   },
   "file_extension": ".py",
   "mimetype": "text/x-python",
   "name": "python",
   "nbconvert_exporter": "python",
   "pygments_lexer": "ipython3",
   "version": "3.9.7"
  }
 },
 "nbformat": 4,
 "nbformat_minor": 5
}
